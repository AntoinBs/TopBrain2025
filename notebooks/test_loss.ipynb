{
 "cells": [
  {
   "cell_type": "code",
   "execution_count": 9,
   "id": "1e270609",
   "metadata": {},
   "outputs": [],
   "source": [
    "import os\n",
    "import sys\n",
    "module_path = os.path.abspath(os.path.join('..'))\n",
    "if module_path not in sys.path:\n",
    "    sys.path.append(module_path)\n",
    "\n",
    "from src.utils.loss import HybridDiceCLDiceLoss\n",
    "\n",
    "import numpy as np\n",
    "import nibabel as nib\n",
    "\n",
    "import torch"
   ]
  },
  {
   "cell_type": "code",
   "execution_count": null,
   "id": "0e371be0",
   "metadata": {},
   "outputs": [
    {
     "name": "stdout",
     "output_type": "stream",
     "text": [
      "Loss perfect case (no weights), expected : ~ 0.0000 : 0.4249\n",
      "\n",
      "Loss random case (no weights): 0.6663\n",
      "Loss random case (with weights, expected : x2): 1.3326\n"
     ]
    }
   ],
   "source": [
    "# loss init\n",
    "loss_fn = HybridDiceCLDiceLoss()\n",
    "loss_fn_with_weights = HybridDiceCLDiceLoss(class_weights=[2, 2])\n",
    "\n",
    "# input dimensions\n",
    "B, C, H, W, D = 1, 3, 16, 16, 16\n",
    "\n",
    "# perfect case : pred = target\n",
    "target = torch.randint(low=0, high=C, size=(B, 1, H, W, D))\n",
    "pred = torch.nn.functional.one_hot(target.squeeze(1), num_classes=C).permute(0, 4, 1, 2, 3).float()\n",
    "\n",
    "# logits -> add int to simulate true model output\n",
    "pred_logits = pred + 10\n",
    "\n",
    "loss = loss_fn(pred_logits, target)\n",
    "loss_with_weights = loss_fn_with_weights(pred_logits, target)\n",
    "print(f\"Loss perfect case (no weights), expected : ~ 0.0000 : {loss.item():.4f}\")\n",
    "\n",
    "print()\n",
    "# random case\n",
    "pred_logits_rand = torch.randn((B, C, H, W, D))\n",
    "loss_rand = loss_fn(pred_logits_rand, target)\n",
    "loss_rand_with_weights = loss_fn_with_weights(pred_logits_rand, target)\n",
    "print(f\"Loss random case (no weights): {loss_rand.item():.4f}\")\n",
    "print(f\"Loss random case (with weights, expected : x2): {loss_rand_with_weights.item():.4f}\")\n",
    "\n",
    "# check backward\n",
    "pred_logits_rand.requires_grad_()\n",
    "loss = loss_fn(pred_logits_rand, target)\n",
    "loss.backward()\n",
    "print(\"Gradients calculés ?\", pred_logits_rand.grad.abs().sum().item() > 0)"
   ]
  },
  {
   "cell_type": "code",
   "execution_count": null,
   "id": "3c515c19",
   "metadata": {},
   "outputs": [],
   "source": []
  }
 ],
 "metadata": {
  "kernelspec": {
   "display_name": ".venv (3.11.13)",
   "language": "python",
   "name": "python3"
  },
  "language_info": {
   "codemirror_mode": {
    "name": "ipython",
    "version": 3
   },
   "file_extension": ".py",
   "mimetype": "text/x-python",
   "name": "python",
   "nbconvert_exporter": "python",
   "pygments_lexer": "ipython3",
   "version": "3.11.13"
  }
 },
 "nbformat": 4,
 "nbformat_minor": 5
}
