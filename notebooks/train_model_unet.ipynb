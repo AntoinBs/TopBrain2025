{
  "cells": [
    {
      "cell_type": "code",
      "source": [
        "# COLAB\n",
        "!pip install -q \"monai-weekly[tqdm, nibabel, gdown, ignite]\"\n",
        "!pip install mlflow==3.4.0\n",
        "!pip install iterative-stratification==0.1.9\n",
        "!pip install simpleitk==2.5.2"
      ],
      "metadata": {
        "colab": {
          "base_uri": "https://localhost:8080/"
        },
        "id": "XmEWNkdhpqpl",
        "outputId": "ed5a9c6e-e625-43af-91f8-1031192843c2"
      },
      "id": "XmEWNkdhpqpl",
      "execution_count": 12,
      "outputs": [
        {
          "output_type": "stream",
          "name": "stdout",
          "text": [
            "Requirement already satisfied: mlflow==3.4.0 in /usr/local/lib/python3.12/dist-packages (3.4.0)\n",
            "Requirement already satisfied: mlflow-skinny==3.4.0 in /usr/local/lib/python3.12/dist-packages (from mlflow==3.4.0) (3.4.0)\n",
            "Requirement already satisfied: mlflow-tracing==3.4.0 in /usr/local/lib/python3.12/dist-packages (from mlflow==3.4.0) (3.4.0)\n",
            "Requirement already satisfied: Flask<4 in /usr/local/lib/python3.12/dist-packages (from mlflow==3.4.0) (3.1.2)\n",
            "Requirement already satisfied: alembic!=1.10.0,<2 in /usr/local/lib/python3.12/dist-packages (from mlflow==3.4.0) (1.16.5)\n",
            "Requirement already satisfied: cryptography<46,>=43.0.0 in /usr/local/lib/python3.12/dist-packages (from mlflow==3.4.0) (43.0.3)\n",
            "Requirement already satisfied: docker<8,>=4.0.0 in /usr/local/lib/python3.12/dist-packages (from mlflow==3.4.0) (7.1.0)\n",
            "Requirement already satisfied: fastmcp<3,>=2.0.0 in /usr/local/lib/python3.12/dist-packages (from mlflow==3.4.0) (2.12.4)\n",
            "Requirement already satisfied: graphene<4 in /usr/local/lib/python3.12/dist-packages (from mlflow==3.4.0) (3.4.3)\n",
            "Requirement already satisfied: gunicorn<24 in /usr/local/lib/python3.12/dist-packages (from mlflow==3.4.0) (23.0.0)\n",
            "Requirement already satisfied: matplotlib<4 in /usr/local/lib/python3.12/dist-packages (from mlflow==3.4.0) (3.10.0)\n",
            "Requirement already satisfied: numpy<3 in /usr/local/lib/python3.12/dist-packages (from mlflow==3.4.0) (2.0.2)\n",
            "Requirement already satisfied: pandas<3 in /usr/local/lib/python3.12/dist-packages (from mlflow==3.4.0) (2.2.2)\n",
            "Requirement already satisfied: pyarrow<22,>=4.0.0 in /usr/local/lib/python3.12/dist-packages (from mlflow==3.4.0) (18.1.0)\n",
            "Requirement already satisfied: scikit-learn<2 in /usr/local/lib/python3.12/dist-packages (from mlflow==3.4.0) (1.6.1)\n",
            "Requirement already satisfied: scipy<2 in /usr/local/lib/python3.12/dist-packages (from mlflow==3.4.0) (1.16.2)\n",
            "Requirement already satisfied: sqlalchemy<3,>=1.4.0 in /usr/local/lib/python3.12/dist-packages (from mlflow==3.4.0) (2.0.43)\n",
            "Requirement already satisfied: cachetools<7,>=5.0.0 in /usr/local/lib/python3.12/dist-packages (from mlflow-skinny==3.4.0->mlflow==3.4.0) (5.5.2)\n",
            "Requirement already satisfied: click<9,>=7.0 in /usr/local/lib/python3.12/dist-packages (from mlflow-skinny==3.4.0->mlflow==3.4.0) (8.3.0)\n",
            "Requirement already satisfied: cloudpickle<4 in /usr/local/lib/python3.12/dist-packages (from mlflow-skinny==3.4.0->mlflow==3.4.0) (3.1.1)\n",
            "Requirement already satisfied: databricks-sdk<1,>=0.20.0 in /usr/local/lib/python3.12/dist-packages (from mlflow-skinny==3.4.0->mlflow==3.4.0) (0.68.0)\n",
            "Requirement already satisfied: fastapi<1 in /usr/local/lib/python3.12/dist-packages (from mlflow-skinny==3.4.0->mlflow==3.4.0) (0.118.2)\n",
            "Requirement already satisfied: gitpython<4,>=3.1.9 in /usr/local/lib/python3.12/dist-packages (from mlflow-skinny==3.4.0->mlflow==3.4.0) (3.1.45)\n",
            "Requirement already satisfied: importlib_metadata!=4.7.0,<9,>=3.7.0 in /usr/local/lib/python3.12/dist-packages (from mlflow-skinny==3.4.0->mlflow==3.4.0) (8.7.0)\n",
            "Requirement already satisfied: opentelemetry-api<3,>=1.9.0 in /usr/local/lib/python3.12/dist-packages (from mlflow-skinny==3.4.0->mlflow==3.4.0) (1.37.0)\n",
            "Requirement already satisfied: opentelemetry-proto<3,>=1.9.0 in /usr/local/lib/python3.12/dist-packages (from mlflow-skinny==3.4.0->mlflow==3.4.0) (1.37.0)\n",
            "Requirement already satisfied: opentelemetry-sdk<3,>=1.9.0 in /usr/local/lib/python3.12/dist-packages (from mlflow-skinny==3.4.0->mlflow==3.4.0) (1.37.0)\n",
            "Requirement already satisfied: packaging<26 in /usr/local/lib/python3.12/dist-packages (from mlflow-skinny==3.4.0->mlflow==3.4.0) (25.0)\n",
            "Requirement already satisfied: protobuf<7,>=3.12.0 in /usr/local/lib/python3.12/dist-packages (from mlflow-skinny==3.4.0->mlflow==3.4.0) (5.29.5)\n",
            "Requirement already satisfied: pydantic<3,>=1.10.8 in /usr/local/lib/python3.12/dist-packages (from mlflow-skinny==3.4.0->mlflow==3.4.0) (2.11.10)\n",
            "Requirement already satisfied: python-dotenv<2,>=0.19.0 in /usr/local/lib/python3.12/dist-packages (from mlflow-skinny==3.4.0->mlflow==3.4.0) (1.1.1)\n",
            "Requirement already satisfied: pyyaml<7,>=5.1 in /usr/local/lib/python3.12/dist-packages (from mlflow-skinny==3.4.0->mlflow==3.4.0) (6.0.3)\n",
            "Requirement already satisfied: requests<3,>=2.17.3 in /usr/local/lib/python3.12/dist-packages (from mlflow-skinny==3.4.0->mlflow==3.4.0) (2.32.4)\n",
            "Requirement already satisfied: sqlparse<1,>=0.4.0 in /usr/local/lib/python3.12/dist-packages (from mlflow-skinny==3.4.0->mlflow==3.4.0) (0.5.3)\n",
            "Requirement already satisfied: typing-extensions<5,>=4.0.0 in /usr/local/lib/python3.12/dist-packages (from mlflow-skinny==3.4.0->mlflow==3.4.0) (4.15.0)\n",
            "Requirement already satisfied: uvicorn<1 in /usr/local/lib/python3.12/dist-packages (from mlflow-skinny==3.4.0->mlflow==3.4.0) (0.37.0)\n",
            "Requirement already satisfied: Mako in /usr/local/lib/python3.12/dist-packages (from alembic!=1.10.0,<2->mlflow==3.4.0) (1.3.10)\n",
            "Requirement already satisfied: cffi>=1.12 in /usr/local/lib/python3.12/dist-packages (from cryptography<46,>=43.0.0->mlflow==3.4.0) (2.0.0)\n",
            "Requirement already satisfied: urllib3>=1.26.0 in /usr/local/lib/python3.12/dist-packages (from docker<8,>=4.0.0->mlflow==3.4.0) (2.5.0)\n",
            "Requirement already satisfied: authlib>=1.5.2 in /usr/local/lib/python3.12/dist-packages (from fastmcp<3,>=2.0.0->mlflow==3.4.0) (1.6.5)\n",
            "Requirement already satisfied: cyclopts>=3.0.0 in /usr/local/lib/python3.12/dist-packages (from fastmcp<3,>=2.0.0->mlflow==3.4.0) (3.24.0)\n",
            "Requirement already satisfied: exceptiongroup>=1.2.2 in /usr/local/lib/python3.12/dist-packages (from fastmcp<3,>=2.0.0->mlflow==3.4.0) (1.3.0)\n",
            "Requirement already satisfied: httpx>=0.28.1 in /usr/local/lib/python3.12/dist-packages (from fastmcp<3,>=2.0.0->mlflow==3.4.0) (0.28.1)\n",
            "Requirement already satisfied: mcp<2.0.0,>=1.12.4 in /usr/local/lib/python3.12/dist-packages (from fastmcp<3,>=2.0.0->mlflow==3.4.0) (1.16.0)\n",
            "Requirement already satisfied: openapi-core>=0.19.5 in /usr/local/lib/python3.12/dist-packages (from fastmcp<3,>=2.0.0->mlflow==3.4.0) (0.19.5)\n",
            "Requirement already satisfied: openapi-pydantic>=0.5.1 in /usr/local/lib/python3.12/dist-packages (from fastmcp<3,>=2.0.0->mlflow==3.4.0) (0.5.1)\n",
            "Requirement already satisfied: pyperclip>=1.9.0 in /usr/local/lib/python3.12/dist-packages (from fastmcp<3,>=2.0.0->mlflow==3.4.0) (1.11.0)\n",
            "Requirement already satisfied: rich>=13.9.4 in /usr/local/lib/python3.12/dist-packages (from fastmcp<3,>=2.0.0->mlflow==3.4.0) (13.9.4)\n",
            "Requirement already satisfied: blinker>=1.9.0 in /usr/local/lib/python3.12/dist-packages (from Flask<4->mlflow==3.4.0) (1.9.0)\n",
            "Requirement already satisfied: itsdangerous>=2.2.0 in /usr/local/lib/python3.12/dist-packages (from Flask<4->mlflow==3.4.0) (2.2.0)\n",
            "Requirement already satisfied: jinja2>=3.1.2 in /usr/local/lib/python3.12/dist-packages (from Flask<4->mlflow==3.4.0) (3.1.6)\n",
            "Requirement already satisfied: markupsafe>=2.1.1 in /usr/local/lib/python3.12/dist-packages (from Flask<4->mlflow==3.4.0) (3.0.3)\n",
            "Requirement already satisfied: werkzeug>=3.1.0 in /usr/local/lib/python3.12/dist-packages (from Flask<4->mlflow==3.4.0) (3.1.1)\n",
            "Requirement already satisfied: graphql-core<3.3,>=3.1 in /usr/local/lib/python3.12/dist-packages (from graphene<4->mlflow==3.4.0) (3.2.6)\n",
            "Requirement already satisfied: graphql-relay<3.3,>=3.1 in /usr/local/lib/python3.12/dist-packages (from graphene<4->mlflow==3.4.0) (3.2.0)\n",
            "Requirement already satisfied: python-dateutil<3,>=2.7.0 in /usr/local/lib/python3.12/dist-packages (from graphene<4->mlflow==3.4.0) (2.9.0.post0)\n",
            "Requirement already satisfied: contourpy>=1.0.1 in /usr/local/lib/python3.12/dist-packages (from matplotlib<4->mlflow==3.4.0) (1.3.3)\n",
            "Requirement already satisfied: cycler>=0.10 in /usr/local/lib/python3.12/dist-packages (from matplotlib<4->mlflow==3.4.0) (0.12.1)\n",
            "Requirement already satisfied: fonttools>=4.22.0 in /usr/local/lib/python3.12/dist-packages (from matplotlib<4->mlflow==3.4.0) (4.60.1)\n",
            "Requirement already satisfied: kiwisolver>=1.3.1 in /usr/local/lib/python3.12/dist-packages (from matplotlib<4->mlflow==3.4.0) (1.4.9)\n",
            "Requirement already satisfied: pillow>=8 in /usr/local/lib/python3.12/dist-packages (from matplotlib<4->mlflow==3.4.0) (11.3.0)\n",
            "Requirement already satisfied: pyparsing>=2.3.1 in /usr/local/lib/python3.12/dist-packages (from matplotlib<4->mlflow==3.4.0) (3.2.5)\n",
            "Requirement already satisfied: pytz>=2020.1 in /usr/local/lib/python3.12/dist-packages (from pandas<3->mlflow==3.4.0) (2025.2)\n",
            "Requirement already satisfied: tzdata>=2022.7 in /usr/local/lib/python3.12/dist-packages (from pandas<3->mlflow==3.4.0) (2025.2)\n",
            "Requirement already satisfied: joblib>=1.2.0 in /usr/local/lib/python3.12/dist-packages (from scikit-learn<2->mlflow==3.4.0) (1.5.2)\n",
            "Requirement already satisfied: threadpoolctl>=3.1.0 in /usr/local/lib/python3.12/dist-packages (from scikit-learn<2->mlflow==3.4.0) (3.6.0)\n",
            "Requirement already satisfied: greenlet>=1 in /usr/local/lib/python3.12/dist-packages (from sqlalchemy<3,>=1.4.0->mlflow==3.4.0) (3.2.4)\n",
            "Requirement already satisfied: pycparser in /usr/local/lib/python3.12/dist-packages (from cffi>=1.12->cryptography<46,>=43.0.0->mlflow==3.4.0) (2.23)\n",
            "Requirement already satisfied: attrs>=23.1.0 in /usr/local/lib/python3.12/dist-packages (from cyclopts>=3.0.0->fastmcp<3,>=2.0.0->mlflow==3.4.0) (25.4.0)\n",
            "Requirement already satisfied: docstring-parser>=0.15 in /usr/local/lib/python3.12/dist-packages (from cyclopts>=3.0.0->fastmcp<3,>=2.0.0->mlflow==3.4.0) (0.17.0)\n",
            "Requirement already satisfied: rich-rst<2.0.0,>=1.3.1 in /usr/local/lib/python3.12/dist-packages (from cyclopts>=3.0.0->fastmcp<3,>=2.0.0->mlflow==3.4.0) (1.3.2)\n",
            "Requirement already satisfied: google-auth~=2.0 in /usr/local/lib/python3.12/dist-packages (from databricks-sdk<1,>=0.20.0->mlflow-skinny==3.4.0->mlflow==3.4.0) (2.38.0)\n",
            "Requirement already satisfied: starlette<0.49.0,>=0.40.0 in /usr/local/lib/python3.12/dist-packages (from fastapi<1->mlflow-skinny==3.4.0->mlflow==3.4.0) (0.48.0)\n",
            "Requirement already satisfied: gitdb<5,>=4.0.1 in /usr/local/lib/python3.12/dist-packages (from gitpython<4,>=3.1.9->mlflow-skinny==3.4.0->mlflow==3.4.0) (4.0.12)\n",
            "Requirement already satisfied: anyio in /usr/local/lib/python3.12/dist-packages (from httpx>=0.28.1->fastmcp<3,>=2.0.0->mlflow==3.4.0) (4.11.0)\n",
            "Requirement already satisfied: certifi in /usr/local/lib/python3.12/dist-packages (from httpx>=0.28.1->fastmcp<3,>=2.0.0->mlflow==3.4.0) (2025.10.5)\n",
            "Requirement already satisfied: httpcore==1.* in /usr/local/lib/python3.12/dist-packages (from httpx>=0.28.1->fastmcp<3,>=2.0.0->mlflow==3.4.0) (1.0.9)\n",
            "Requirement already satisfied: idna in /usr/local/lib/python3.12/dist-packages (from httpx>=0.28.1->fastmcp<3,>=2.0.0->mlflow==3.4.0) (3.10)\n",
            "Requirement already satisfied: h11>=0.16 in /usr/local/lib/python3.12/dist-packages (from httpcore==1.*->httpx>=0.28.1->fastmcp<3,>=2.0.0->mlflow==3.4.0) (0.16.0)\n",
            "Requirement already satisfied: zipp>=3.20 in /usr/local/lib/python3.12/dist-packages (from importlib_metadata!=4.7.0,<9,>=3.7.0->mlflow-skinny==3.4.0->mlflow==3.4.0) (3.23.0)\n",
            "Requirement already satisfied: httpx-sse>=0.4 in /usr/local/lib/python3.12/dist-packages (from mcp<2.0.0,>=1.12.4->fastmcp<3,>=2.0.0->mlflow==3.4.0) (0.4.2)\n",
            "Requirement already satisfied: jsonschema>=4.20.0 in /usr/local/lib/python3.12/dist-packages (from mcp<2.0.0,>=1.12.4->fastmcp<3,>=2.0.0->mlflow==3.4.0) (4.25.1)\n",
            "Requirement already satisfied: pydantic-settings>=2.5.2 in /usr/local/lib/python3.12/dist-packages (from mcp<2.0.0,>=1.12.4->fastmcp<3,>=2.0.0->mlflow==3.4.0) (2.11.0)\n",
            "Requirement already satisfied: python-multipart>=0.0.9 in /usr/local/lib/python3.12/dist-packages (from mcp<2.0.0,>=1.12.4->fastmcp<3,>=2.0.0->mlflow==3.4.0) (0.0.20)\n",
            "Requirement already satisfied: sse-starlette>=1.6.1 in /usr/local/lib/python3.12/dist-packages (from mcp<2.0.0,>=1.12.4->fastmcp<3,>=2.0.0->mlflow==3.4.0) (3.0.2)\n",
            "Requirement already satisfied: isodate in /usr/local/lib/python3.12/dist-packages (from openapi-core>=0.19.5->fastmcp<3,>=2.0.0->mlflow==3.4.0) (0.7.2)\n",
            "Requirement already satisfied: jsonschema-path<0.4.0,>=0.3.1 in /usr/local/lib/python3.12/dist-packages (from openapi-core>=0.19.5->fastmcp<3,>=2.0.0->mlflow==3.4.0) (0.3.4)\n",
            "Requirement already satisfied: more-itertools in /usr/local/lib/python3.12/dist-packages (from openapi-core>=0.19.5->fastmcp<3,>=2.0.0->mlflow==3.4.0) (10.8.0)\n",
            "Requirement already satisfied: openapi-schema-validator<0.7.0,>=0.6.0 in /usr/local/lib/python3.12/dist-packages (from openapi-core>=0.19.5->fastmcp<3,>=2.0.0->mlflow==3.4.0) (0.6.3)\n",
            "Requirement already satisfied: openapi-spec-validator<0.8.0,>=0.7.1 in /usr/local/lib/python3.12/dist-packages (from openapi-core>=0.19.5->fastmcp<3,>=2.0.0->mlflow==3.4.0) (0.7.2)\n",
            "Requirement already satisfied: parse in /usr/local/lib/python3.12/dist-packages (from openapi-core>=0.19.5->fastmcp<3,>=2.0.0->mlflow==3.4.0) (1.20.2)\n",
            "Requirement already satisfied: opentelemetry-semantic-conventions==0.58b0 in /usr/local/lib/python3.12/dist-packages (from opentelemetry-sdk<3,>=1.9.0->mlflow-skinny==3.4.0->mlflow==3.4.0) (0.58b0)\n",
            "Requirement already satisfied: annotated-types>=0.6.0 in /usr/local/lib/python3.12/dist-packages (from pydantic<3,>=1.10.8->mlflow-skinny==3.4.0->mlflow==3.4.0) (0.7.0)\n",
            "Requirement already satisfied: pydantic-core==2.33.2 in /usr/local/lib/python3.12/dist-packages (from pydantic<3,>=1.10.8->mlflow-skinny==3.4.0->mlflow==3.4.0) (2.33.2)\n",
            "Requirement already satisfied: typing-inspection>=0.4.0 in /usr/local/lib/python3.12/dist-packages (from pydantic<3,>=1.10.8->mlflow-skinny==3.4.0->mlflow==3.4.0) (0.4.2)\n",
            "Requirement already satisfied: email-validator>=2.0.0 in /usr/local/lib/python3.12/dist-packages (from pydantic[email]>=2.11.7->fastmcp<3,>=2.0.0->mlflow==3.4.0) (2.3.0)\n",
            "Requirement already satisfied: six>=1.5 in /usr/local/lib/python3.12/dist-packages (from python-dateutil<3,>=2.7.0->graphene<4->mlflow==3.4.0) (1.17.0)\n",
            "Requirement already satisfied: charset_normalizer<4,>=2 in /usr/local/lib/python3.12/dist-packages (from requests<3,>=2.17.3->mlflow-skinny==3.4.0->mlflow==3.4.0) (3.4.3)\n",
            "Requirement already satisfied: markdown-it-py>=2.2.0 in /usr/local/lib/python3.12/dist-packages (from rich>=13.9.4->fastmcp<3,>=2.0.0->mlflow==3.4.0) (4.0.0)\n",
            "Requirement already satisfied: pygments<3.0.0,>=2.13.0 in /usr/local/lib/python3.12/dist-packages (from rich>=13.9.4->fastmcp<3,>=2.0.0->mlflow==3.4.0) (2.19.2)\n",
            "Requirement already satisfied: sniffio>=1.1 in /usr/local/lib/python3.12/dist-packages (from anyio->httpx>=0.28.1->fastmcp<3,>=2.0.0->mlflow==3.4.0) (1.3.1)\n",
            "Requirement already satisfied: dnspython>=2.0.0 in /usr/local/lib/python3.12/dist-packages (from email-validator>=2.0.0->pydantic[email]>=2.11.7->fastmcp<3,>=2.0.0->mlflow==3.4.0) (2.8.0)\n",
            "Requirement already satisfied: smmap<6,>=3.0.1 in /usr/local/lib/python3.12/dist-packages (from gitdb<5,>=4.0.1->gitpython<4,>=3.1.9->mlflow-skinny==3.4.0->mlflow==3.4.0) (5.0.2)\n",
            "Requirement already satisfied: pyasn1-modules>=0.2.1 in /usr/local/lib/python3.12/dist-packages (from google-auth~=2.0->databricks-sdk<1,>=0.20.0->mlflow-skinny==3.4.0->mlflow==3.4.0) (0.4.2)\n",
            "Requirement already satisfied: rsa<5,>=3.1.4 in /usr/local/lib/python3.12/dist-packages (from google-auth~=2.0->databricks-sdk<1,>=0.20.0->mlflow-skinny==3.4.0->mlflow==3.4.0) (4.9.1)\n",
            "Requirement already satisfied: jsonschema-specifications>=2023.03.6 in /usr/local/lib/python3.12/dist-packages (from jsonschema>=4.20.0->mcp<2.0.0,>=1.12.4->fastmcp<3,>=2.0.0->mlflow==3.4.0) (2025.9.1)\n",
            "Requirement already satisfied: referencing>=0.28.4 in /usr/local/lib/python3.12/dist-packages (from jsonschema>=4.20.0->mcp<2.0.0,>=1.12.4->fastmcp<3,>=2.0.0->mlflow==3.4.0) (0.36.2)\n",
            "Requirement already satisfied: rpds-py>=0.7.1 in /usr/local/lib/python3.12/dist-packages (from jsonschema>=4.20.0->mcp<2.0.0,>=1.12.4->fastmcp<3,>=2.0.0->mlflow==3.4.0) (0.27.1)\n",
            "Requirement already satisfied: pathable<0.5.0,>=0.4.1 in /usr/local/lib/python3.12/dist-packages (from jsonschema-path<0.4.0,>=0.3.1->openapi-core>=0.19.5->fastmcp<3,>=2.0.0->mlflow==3.4.0) (0.4.4)\n",
            "Requirement already satisfied: mdurl~=0.1 in /usr/local/lib/python3.12/dist-packages (from markdown-it-py>=2.2.0->rich>=13.9.4->fastmcp<3,>=2.0.0->mlflow==3.4.0) (0.1.2)\n",
            "Requirement already satisfied: rfc3339-validator in /usr/local/lib/python3.12/dist-packages (from openapi-schema-validator<0.7.0,>=0.6.0->openapi-core>=0.19.5->fastmcp<3,>=2.0.0->mlflow==3.4.0) (0.1.4)\n",
            "Requirement already satisfied: lazy-object-proxy<2.0.0,>=1.7.1 in /usr/local/lib/python3.12/dist-packages (from openapi-spec-validator<0.8.0,>=0.7.1->openapi-core>=0.19.5->fastmcp<3,>=2.0.0->mlflow==3.4.0) (1.12.0)\n",
            "Requirement already satisfied: docutils in /usr/local/lib/python3.12/dist-packages (from rich-rst<2.0.0,>=1.3.1->cyclopts>=3.0.0->fastmcp<3,>=2.0.0->mlflow==3.4.0) (0.21.2)\n",
            "Requirement already satisfied: pyasn1<0.7.0,>=0.6.1 in /usr/local/lib/python3.12/dist-packages (from pyasn1-modules>=0.2.1->google-auth~=2.0->databricks-sdk<1,>=0.20.0->mlflow-skinny==3.4.0->mlflow==3.4.0) (0.6.1)\n",
            "Requirement already satisfied: iterative-stratification==0.1.9 in /usr/local/lib/python3.12/dist-packages (0.1.9)\n",
            "Requirement already satisfied: numpy in /usr/local/lib/python3.12/dist-packages (from iterative-stratification==0.1.9) (2.0.2)\n",
            "Requirement already satisfied: scipy in /usr/local/lib/python3.12/dist-packages (from iterative-stratification==0.1.9) (1.16.2)\n",
            "Requirement already satisfied: scikit-learn in /usr/local/lib/python3.12/dist-packages (from iterative-stratification==0.1.9) (1.6.1)\n",
            "Requirement already satisfied: joblib>=1.2.0 in /usr/local/lib/python3.12/dist-packages (from scikit-learn->iterative-stratification==0.1.9) (1.5.2)\n",
            "Requirement already satisfied: threadpoolctl>=3.1.0 in /usr/local/lib/python3.12/dist-packages (from scikit-learn->iterative-stratification==0.1.9) (3.6.0)\n",
            "Collecting simpleitk==2.5.2\n",
            "  Downloading simpleitk-2.5.2-cp311-abi3-manylinux2014_x86_64.manylinux_2_17_x86_64.whl.metadata (7.2 kB)\n",
            "Downloading simpleitk-2.5.2-cp311-abi3-manylinux2014_x86_64.manylinux_2_17_x86_64.whl (52.6 MB)\n",
            "\u001b[2K   \u001b[90m━━━━━━━━━━━━━━━━━━━━━━━━━━━━━━━━━━━━━━━━\u001b[0m \u001b[32m52.6/52.6 MB\u001b[0m \u001b[31m8.9 MB/s\u001b[0m eta \u001b[36m0:00:00\u001b[0m\n",
            "\u001b[?25hInstalling collected packages: simpleitk\n",
            "Successfully installed simpleitk-2.5.2\n"
          ]
        }
      ]
    },
    {
      "cell_type": "code",
      "source": [
        "# COLAB\n",
        "from google.colab import drive\n",
        "import os\n",
        "drive.mount('/content/drive')\n",
        "os.chdir('/content/drive/MyDrive/Projets_perso/Projet_IA/TopBrain2025')"
      ],
      "metadata": {
        "id": "FwRmOj3wrSCo",
        "outputId": "9fe6c873-a425-438f-fb77-286b3bb2ff45",
        "colab": {
          "base_uri": "https://localhost:8080/"
        }
      },
      "id": "FwRmOj3wrSCo",
      "execution_count": 9,
      "outputs": [
        {
          "output_type": "stream",
          "name": "stdout",
          "text": [
            "Drive already mounted at /content/drive; to attempt to forcibly remount, call drive.mount(\"/content/drive\", force_remount=True).\n"
          ]
        }
      ]
    },
    {
      "cell_type": "code",
      "execution_count": 10,
      "id": "948f9913",
      "metadata": {
        "id": "948f9913"
      },
      "outputs": [],
      "source": [
        "import warnings\n",
        "warnings.filterwarnings(\n",
        "    \"ignore\",\n",
        "    message=\"Using a non-tuple sequence for multidimensional indexing is deprecated\"\n",
        ")"
      ]
    },
    {
      "cell_type": "code",
      "execution_count": 20,
      "id": "389568af",
      "metadata": {
        "id": "389568af"
      },
      "outputs": [],
      "source": [
        "# Training parameters\n",
        "EXPERIMENT_NAME = \"unet3d_PatchSize_increased(96->128)\"\n",
        "OPTIMIZER_NAME = \"SGD_NESTEROV\"\n",
        "LOSS = \"DICE/CE(1x)CLDICE(0.3x)\"\n",
        "\n",
        "CHANNELS = (16, 32, 64, 128, 256)\n",
        "PATCH_SIZE = (128, 128, 128)\n",
        "NUM_RES_UNITS = 2\n",
        "\n",
        "N_SPLITS = 5\n",
        "EPOCHS = 500\n",
        "BATCH_SIZE = 1\n",
        "LEARNING_RATE = 1e-2\n",
        "VAL_INTERVAL = 2\n",
        "PATIENCE_STOP_LOSS = 20\n"
      ]
    },
    {
      "cell_type": "code",
      "execution_count": 13,
      "id": "4353561c",
      "metadata": {
        "id": "4353561c"
      },
      "outputs": [],
      "source": [
        "import os\n",
        "import sys\n",
        "from tqdm import tqdm\n",
        "import time\n",
        "module_path = os.path.abspath(os.path.join('..'))\n",
        "if module_path not in sys.path:\n",
        "    sys.path.append(module_path)\n",
        "\n",
        "from src.utils.labels_mapping import RelabelByModality\n",
        "from src.utils.loss import HybridDiceCLDiceLoss\n",
        "from src.features.utils import BalancedCTMRSampler\n",
        "from src.features.train_test_split import build_label_presence_matrix\n",
        "\n",
        "from iterstrat.ml_stratifiers import MultilabelStratifiedKFold\n",
        "\n",
        "import torch\n",
        "import monai\n",
        "import pandas as pd\n",
        "import numpy as np\n",
        "import nibabel as nib\n",
        "import matplotlib.pyplot as plt\n",
        "\n",
        "import mlflow\n",
        "\n",
        "from typing import Dict\n",
        "import gc\n",
        "\n",
        "from monai.transforms import (\n",
        "    Compose,\n",
        "    MapTransform,\n",
        "    LoadImaged,\n",
        "    EnsureChannelFirstd,\n",
        "    RandCropByPosNegLabeld,\n",
        "    RandAffined,\n",
        "    RandAdjustContrastd,\n",
        "    RandGaussianNoised,\n",
        "    RandScaleIntensityd,\n",
        "    AsDiscrete,\n",
        "    Activations\n",
        ")\n",
        "from monai.data import DataLoader, Dataset, CacheDataset, decollate_batch\n",
        "from monai.inferers import sliding_window_inference\n",
        "\n",
        "from monai.networks.nets import UNet"
      ]
    },
    {
      "cell_type": "markdown",
      "id": "c6fbd752",
      "metadata": {
        "id": "c6fbd752"
      },
      "source": [
        "# Load data"
      ]
    },
    {
      "cell_type": "code",
      "execution_count": 16,
      "id": "5b976a23",
      "metadata": {
        "id": "5b976a23"
      },
      "outputs": [],
      "source": [
        "# Load data\n",
        "train_data = pd.read_csv('data/processed/train_split.csv')\n",
        "train_data = train_data.drop(columns=['file_name']).rename(columns={'image_path': 'image', 'label_path': 'label'})\n",
        "# train_data['image'] = train_data['image'].apply(lambda x: os.path.join('..', x))\n",
        "# train_data['label'] = train_data['label'].apply(lambda x: os.path.join('..', x))\n",
        "train_dict = train_data.to_dict('records') # list of dict (one per image) like [{'image':..., 'label':..., 'modality':...}, ...]"
      ]
    },
    {
      "cell_type": "code",
      "execution_count": 17,
      "id": "02e13d41",
      "metadata": {
        "colab": {
          "base_uri": "https://localhost:8080/"
        },
        "id": "02e13d41",
        "outputId": "251d0a9f-c4a7-4f59-c484-457b041e2082"
      },
      "outputs": [
        {
          "output_type": "stream",
          "name": "stdout",
          "text": [
            "FOLD 1 - Train fold size: 30, Val fold size: 8\n",
            "MR / CT distribution in train fold:{'ct': 16, 'mr': 14}\n",
            "\n",
            "FOLD 2 - Train fold size: 30, Val fold size: 8\n",
            "MR / CT distribution in train fold:{'ct': 16, 'mr': 14}\n",
            "\n",
            "FOLD 3 - Train fold size: 31, Val fold size: 7\n",
            "MR / CT distribution in train fold:{'ct': 16, 'mr': 15}\n",
            "\n",
            "FOLD 4 - Train fold size: 29, Val fold size: 9\n",
            "MR / CT distribution in train fold:{'ct': 16, 'mr': 13}\n",
            "\n",
            "FOLD 5 - Train fold size: 32, Val fold size: 6\n",
            "MR / CT distribution in train fold:{'ct': 16, 'mr': 16}\n",
            "\n",
            "--------------------------------------------------\n",
            "\n",
            "Idx presence across all folds:\n",
            "Train set idx presence (/5 Folds): [4 4 4 4 4 4 4 4 4 4 4 4 4 4 4 4 4 4 4 4 4 4 4 4 4 4 4 4 4 4 4 4 4 4 4 4 4\n",
            " 4]\n",
            "Validation set idx presence (/5 Folds): [1 1 1 1 1 1 1 1 1 1 1 1 1 1 1 1 1 1 1 1 1 1 1 1 1 1 1 1 1 1 1 1 1 1 1 1 1\n",
            " 1]\n"
          ]
        }
      ],
      "source": [
        "matrix = build_label_presence_matrix(train_data, label_path_col='label') # Create the label presence matrix for stratification\n",
        "\n",
        "mss = MultilabelStratifiedKFold(n_splits=5, random_state=42, shuffle=True) # Define the stratified k-fold cross-validator\n",
        "\n",
        "# Initialize a dictionary to count the presence of each index in train and val sets across all folds\n",
        "train_test_idx = {\n",
        "    'train': np.zeros(38, dtype=int),\n",
        "    'val': np.zeros(38, dtype=int)\n",
        "}\n",
        "\n",
        "for fold, (train_idx, val_idx) in enumerate(mss.split(X=train_data, y=matrix)):\n",
        "    train_test_idx['train'][train_idx] += 1 # Increment the count for each index in the training set\n",
        "    train_test_idx['val'][val_idx] += 1 # Increment the count for each index in the validation set\n",
        "\n",
        "    # Get the training and validation folds\n",
        "    train_fold = train_data.iloc[train_idx]\n",
        "    val_fold = train_data.iloc[val_idx]\n",
        "\n",
        "    print(f\"FOLD {fold + 1} - Train fold size: {len(train_fold)}, Val fold size: {len(val_fold)}\")\n",
        "    print(f\"MR / CT distribution in train fold:{train_fold['modality'].value_counts().to_dict()}\\n\")\n",
        "\n",
        "    # Calculate label presence matrix for the training fold\n",
        "    train_labels_presence = matrix[train_idx]\n",
        "    val_labels_presence = matrix[val_idx]\n",
        "\n",
        "    # Calculate the number of occurrences of each label in the training and validation folds\n",
        "    num_train_labels_presence = train_labels_presence.sum(axis=0)\n",
        "    num_val_labels_presence = val_labels_presence.sum(axis=0)\n",
        "\n",
        "    # Checking if any label is missing in either the training or validation fold\n",
        "    if 0 in num_train_labels_presence or 0 in num_val_labels_presence:\n",
        "        print(\"Warning: Some labels are missing in either the training or validation set. Skipping this fold.\\n\")\n",
        "\n",
        "print(\"-\" * 50)\n",
        "print(\"\\nIdx presence across all folds:\")\n",
        "print(f\"Train set idx presence (/{mss.n_splits} Folds):\", train_test_idx['train'])\n",
        "print(f\"Validation set idx presence (/{mss.n_splits} Folds):\", train_test_idx['val'])"
      ]
    },
    {
      "cell_type": "markdown",
      "id": "d734b4db",
      "metadata": {
        "id": "d734b4db"
      },
      "source": [
        "# Augmentations implementation"
      ]
    },
    {
      "cell_type": "code",
      "execution_count": 18,
      "id": "db57499f",
      "metadata": {
        "id": "db57499f"
      },
      "outputs": [],
      "source": [
        "class AugmentByModality(MapTransform):\n",
        "    \"\"\"Apply different pipelines of augmentations based on image modality.\"\"\"\n",
        "    def __init__(self, keys: list, modality_key: str = \"modality\", pipes:Dict[str, Compose] = None):\n",
        "        super().__init__(keys)\n",
        "        self.modality_key = modality_key\n",
        "        self.pipes = pipes if pipes is not None else {}\n",
        "\n",
        "    def __call__(self, data: dict) -> dict:\n",
        "        d = dict(data)\n",
        "\n",
        "        modality = d.get(self.modality_key, None)\n",
        "        pipe = self.pipes.get(modality, None)\n",
        "\n",
        "        if pipe is not None:\n",
        "            d = pipe(d)\n",
        "\n",
        "        return d"
      ]
    },
    {
      "cell_type": "code",
      "execution_count": 19,
      "id": "26700451",
      "metadata": {
        "id": "26700451"
      },
      "outputs": [],
      "source": [
        "# Define transforms specific to each modality\n",
        "cta_transforms = Compose([\n",
        "    RandAdjustContrastd(keys=['image'], prob=1, gamma=(0.95, 1.10))\n",
        "])\n",
        "\n",
        "mra_transforms = Compose([\n",
        "    RandAdjustContrastd(keys=['image'], prob=1, gamma=(0.8, 1.25)),\n",
        "    RandScaleIntensityd(keys=['image'], factors=0.1, prob=1)\n",
        "])"
      ]
    },
    {
      "cell_type": "code",
      "execution_count": 21,
      "id": "f7a19a07",
      "metadata": {
        "id": "f7a19a07"
      },
      "outputs": [],
      "source": [
        "# Define overall training and testing augmentations\n",
        "train_augmentations = Compose([\n",
        "    LoadImaged(keys=['image', 'label']),\n",
        "    EnsureChannelFirstd(keys=['image', 'label']),\n",
        "    RelabelByModality(keys=['label']),\n",
        "    RandCropByPosNegLabeld(\n",
        "        keys=[\"image\", \"label\"],\n",
        "        label_key=\"label\",\n",
        "        spatial_size=PATCH_SIZE,\n",
        "        pos=1,\n",
        "        neg=1,\n",
        "        num_samples=4,\n",
        "        image_key=\"image\",\n",
        "        image_threshold=0),\n",
        "    RandAffined(\n",
        "        keys=['image', 'label'],\n",
        "        mode=['bilinear', 'nearest'],\n",
        "        prob=1,\n",
        "        rotate_range=(0, 0, np.pi/20),\n",
        "        scale_range=(0.1, 0.1, 0.1),\n",
        "        translate_range=(5, 5, 5),\n",
        "        padding_mode='zeros'\n",
        "    ),\n",
        "    RandGaussianNoised(\n",
        "        keys=['image'],\n",
        "        prob=1,\n",
        "        mean=0.0,\n",
        "        std=0.01\n",
        "    ),\n",
        "    AugmentByModality(\n",
        "        keys=['image'],\n",
        "        pipes={\n",
        "            'ct': cta_transforms,\n",
        "            'mr': mra_transforms\n",
        "        }\n",
        "    )\n",
        "])\n",
        "\n",
        "test_augmentations = Compose([\n",
        "    LoadImaged(keys=['image', 'label']),\n",
        "    EnsureChannelFirstd(keys=['image', 'label']),\n",
        "    RelabelByModality(keys=['label'])\n",
        "])"
      ]
    },
    {
      "cell_type": "code",
      "execution_count": 22,
      "id": "de66b39e",
      "metadata": {
        "colab": {
          "base_uri": "https://localhost:8080/"
        },
        "id": "de66b39e",
        "outputId": "b6643ef2-f4f6-4d82-9d11-9682c3fc0081"
      },
      "outputs": [
        {
          "output_type": "stream",
          "name": "stderr",
          "text": [
            "/usr/local/lib/python3.12/dist-packages/torch/utils/data/dataloader.py:627: UserWarning: This DataLoader will create 4 worker processes in total. Our suggested max number of worker in current system is 2, which is smaller than what this DataLoader is going to create. Please be aware that excessive worker creation might get DataLoader running slow or even freeze, lower the worker number to avoid potential slowness/freeze if necessary.\n",
            "  warnings.warn(\n"
          ]
        }
      ],
      "source": [
        "train_ds = Dataset(data=train_dict, transform=train_augmentations)\n",
        "train_loader = DataLoader(train_ds, batch_size=1, num_workers=4, sampler=BalancedCTMRSampler(train_ds))"
      ]
    },
    {
      "cell_type": "code",
      "execution_count": 23,
      "id": "314f6f5e",
      "metadata": {
        "colab": {
          "base_uri": "https://localhost:8080/",
          "height": 406
        },
        "id": "314f6f5e",
        "outputId": "54b6e954-ed0c-4541-ed6b-49cf302a3293"
      },
      "outputs": [
        {
          "output_type": "display_data",
          "data": {
            "text/plain": [
              "<Figure size 640x480 with 1 Axes>"
            ],
            "image/png": "[encoded data removed]"
          },
          "metadata": {}
        }
      ],
      "source": [
        "# Test train data loading\n",
        "batch = next(iter(train_loader))\n",
        "\n",
        "img_slice = batch['image'][0, :, :, batch['image'].shape[-2]//2, :]\n",
        "label_slice = batch['label'][0, :, :, batch['label'].shape[-2]//2, :]\n",
        "\n",
        "# superpose image and label for visualization\n",
        "img = monai.visualize.blend_images(img_slice, label_slice, alpha=0.5, cmap=\"jet\").permute(1, 2, 0)\n",
        "\n",
        "plt.imshow(img)\n",
        "plt.axis('off')\n",
        "plt.show()"
      ]
    },
    {
      "cell_type": "markdown",
      "id": "fc638cf2",
      "metadata": {
        "id": "fc638cf2"
      },
      "source": [
        "# Create Inference function"
      ]
    },
    {
      "cell_type": "code",
      "execution_count": 24,
      "id": "33996220",
      "metadata": {
        "id": "33996220"
      },
      "outputs": [],
      "source": [
        "def infer_volume(model, inputs, vol_size=(96, 96, 96), sw_patch_size=4, overlap=0.25):\n",
        "    \"\"\"Infer a 3D image volume using sliding window inference.\"\"\"\n",
        "    model.eval()\n",
        "    with torch.no_grad():\n",
        "        return sliding_window_inference(\n",
        "            inputs = inputs,                    # e.g. a 3D image volume\n",
        "            roi_size = vol_size,                # size of the sliding window\n",
        "            sw_batch_size = sw_patch_size,      # number of sliding windows to process in parallel\n",
        "            predictor = model,                  # the model to run\n",
        "            overlap = overlap                   # amount of overlap between sliding windows\n",
        "        )"
      ]
    },
    {
      "cell_type": "markdown",
      "id": "943c817f",
      "metadata": {
        "id": "943c817f"
      },
      "source": [
        "# Calculate Labels weights"
      ]
    },
    {
      "cell_type": "code",
      "execution_count": 25,
      "id": "d920c76c",
      "metadata": {
        "id": "d920c76c"
      },
      "outputs": [],
      "source": [
        "def calculate_weights(train_data:pd.DataFrame, class_nb:int) -> torch.Tensor:\n",
        "    \"\"\"Compute class weights based on the frequency of each label in the training data.\"\"\"\n",
        "    counter = [0 for i in range(class_nb)] # 0-48 labels\n",
        "    remap = RelabelByModality('label')\n",
        "    for p, modality in zip(train_data['label'], train_data['modality']):\n",
        "        label_nii = nib.load(p)\n",
        "        label_data = label_nii.get_fdata()\n",
        "        label_data = remap({'label': label_data, 'modality': modality})['label']\n",
        "        unique, counts = np.unique(label_data, return_counts=True)\n",
        "        for u, c in zip(unique, counts):\n",
        "            counter[int(u)] += c\n",
        "\n",
        "    weights = torch.tensor(counter)\n",
        "    weights = 1 / (weights + 1e-6) # inverse frequency\n",
        "    weights = weights / weights.sum() # normalize to sum to 1\n",
        "    weights = weights * class_nb  # scale to have mean of 1\n",
        "    return weights\n",
        "\n",
        "weights = calculate_weights(train_data, class_nb=49)"
      ]
    },
    {
      "cell_type": "markdown",
      "id": "a3ebf090",
      "metadata": {
        "id": "a3ebf090"
      },
      "source": [
        "# CV Training"
      ]
    },
    {
      "cell_type": "code",
      "execution_count": 27,
      "id": "6e01a1f6",
      "metadata": {
        "id": "6e01a1f6"
      },
      "outputs": [],
      "source": [
        "filename = f\"models/{EXPERIMENT_NAME}/config.txt\"\n",
        "os.makedirs(os.path.dirname(filename), exist_ok=True)\n",
        "with open(filename, \"w\") as f:\n",
        "    f.write(f\"Experiment name: {EXPERIMENT_NAME}\\n\")\n",
        "    f.write(f\"Optimizer: {OPTIMIZER_NAME}\\n\")\n",
        "    f.write(f\"Loss function: {LOSS}\\n\")\n",
        "    f.write(f\"Channels: {CHANNELS}\\n\")\n",
        "    f.write(f\"Patch size: {PATCH_SIZE}\\n\")\n",
        "    f.write(f\"Number of residual units: {NUM_RES_UNITS}\\n\")\n",
        "    f.write(f\"Learning rate: {LEARNING_RATE}\\n\")\n",
        "    f.write(f\"Batch size: {BATCH_SIZE}\\n\")\n",
        "    f.write(f\"Number of epochs: {EPOCHS}\\n\")\n",
        "    f.write(f\"Number of folds (cross-validation): {N_SPLITS}\\n\")\n",
        "    f.write(f\"Validation interval (epochs): {VAL_INTERVAL}\\n\")\n",
        "    f.write(f\"Early stopping patience (epochs): {PATIENCE_STOP_LOSS}\\n\")\n",
        "    f.write(f\"\"\"Model architecture:\n",
        "    model = UNet(\n",
        "        spatial_dims=3,\n",
        "        in_channels=1,\n",
        "        out_channels=49,\n",
        "        channels=CHANNELS,\n",
        "        strides=(2, 2, 2, 2),\n",
        "        num_res_units=NUM_RES_UNITS,\n",
        "        bias=False,\n",
        "        dropout=0.1\n",
        "    ).to(device)\"\"\")"
      ]
    },
    {
      "cell_type": "code",
      "source": [
        "# COLAB\n",
        "from torch.cuda.amp import autocast, GradScaler\n",
        "scaler = GradScaler()"
      ],
      "metadata": {
        "id": "1HUrUmBQtV3S",
        "outputId": "7e23bf4a-665a-40cd-c8a0-b04f33e14721",
        "colab": {
          "base_uri": "https://localhost:8080/"
        }
      },
      "id": "1HUrUmBQtV3S",
      "execution_count": 26,
      "outputs": [
        {
          "output_type": "stream",
          "name": "stderr",
          "text": [
            "/tmp/ipython-input-2410298858.py:3: FutureWarning: `torch.cuda.amp.GradScaler(args...)` is deprecated. Please use `torch.amp.GradScaler('cuda', args...)` instead.\n",
            "  scaler = GradScaler()\n",
            "/usr/local/lib/python3.12/dist-packages/torch/amp/grad_scaler.py:136: UserWarning: torch.cuda.amp.GradScaler is enabled, but CUDA is not available.  Disabling.\n",
            "  warnings.warn(\n"
          ]
        }
      ]
    },
    {
      "cell_type": "code",
      "execution_count": null,
      "id": "cb956778",
      "metadata": {
        "id": "cb956778",
        "outputId": "521067e4-8e69-4402-8809-8a38b252e40b"
      },
      "outputs": [
        {
          "name": "stderr",
          "output_type": "stream",
          "text": [
            "2025/10/13 10:09:03 INFO mlflow.tracking.fluent: Experiment with name 'unet3d_baseline' does not exist. Creating a new experiment.\n"
          ]
        },
        {
          "name": "stdout",
          "output_type": "stream",
          "text": [
            "FOLD 1 - Train fold size: 30, Val fold size: 8\n",
            "----------\n",
            "epoch 1/200\n"
          ]
        },
        {
          "name": "stderr",
          "output_type": "stream",
          "text": [
            "[06:36<00:00] step: 32/32 | 100%|\u001b[33m██████████\u001b[0m 12.39s/it, Epoch training loss=5.2981\n"
          ]
        },
        {
          "name": "stdout",
          "output_type": "stream",
          "text": [
            "-----> Epoch 1 | Train loss: 5.2981\n",
            "----------\n",
            "epoch 2/200\n"
          ]
        },
        {
          "name": "stderr",
          "output_type": "stream",
          "text": [
            "[07:03<00:00] step: 32/32 | 100%|\u001b[33m██████████\u001b[0m 13.25s/it, Epoch training loss=5.0926\n"
          ]
        },
        {
          "name": "stdout",
          "output_type": "stream",
          "text": [
            "✓ Saved new best model for fold 1 (epoch 2)\n",
            "Val dice: 0.0028 | Best: 0.0028 at epoch 2\n",
            "-----> Epoch 2 | Train loss: 5.0926 | Val loss: 5.0999\n",
            "----------\n",
            "epoch 3/200\n"
          ]
        },
        {
          "name": "stderr",
          "output_type": "stream",
          "text": [
            "[12:49<00:00] step: 32/32 | 100%|\u001b[33m██████████\u001b[0m 24.05s/it, Epoch training loss=5.0492\n"
          ]
        },
        {
          "name": "stdout",
          "output_type": "stream",
          "text": [
            "-----> Epoch 3 | Train loss: 5.0492\n",
            "----------\n",
            "epoch 4/200\n"
          ]
        },
        {
          "name": "stderr",
          "output_type": "stream",
          "text": [
            "[16:02<00:00] step: 32/32 | 100%|\u001b[33m██████████\u001b[0m 30.07s/it, Epoch training loss=4.9396\n"
          ]
        },
        {
          "name": "stdout",
          "output_type": "stream",
          "text": [
            "✓ Saved new best model for fold 1 (epoch 4)\n",
            "Val dice: 0.0099 | Best: 0.0099 at epoch 4\n",
            "-----> Epoch 4 | Train loss: 4.9396 | Val loss: 5.1487\n",
            "----------\n",
            "epoch 5/200\n"
          ]
        },
        {
          "name": "stderr",
          "output_type": "stream",
          "text": [
            "[12:39<00:00] step: 32/32 | 100%|\u001b[33m██████████\u001b[0m 23.75s/it, Epoch training loss=4.9778\n"
          ]
        },
        {
          "name": "stdout",
          "output_type": "stream",
          "text": [
            "-----> Epoch 5 | Train loss: 4.9778\n",
            "----------\n",
            "epoch 6/200\n"
          ]
        },
        {
          "name": "stderr",
          "output_type": "stream",
          "text": [
            "[16:12<00:00] step: 32/32 | 100%|\u001b[33m██████████\u001b[0m 30.39s/it, Epoch training loss=4.8952\n"
          ]
        },
        {
          "name": "stdout",
          "output_type": "stream",
          "text": [
            "✓ Saved new best model for fold 1 (epoch 6)\n",
            "Val dice: 0.0129 | Best: 0.0129 at epoch 6\n",
            "-----> Epoch 6 | Train loss: 4.8952 | Val loss: 5.0144\n",
            "----------\n",
            "epoch 7/200\n"
          ]
        },
        {
          "name": "stderr",
          "output_type": "stream",
          "text": [
            "[12:31<00:00] step: 32/32 | 100%|\u001b[33m██████████\u001b[0m 23.48s/it, Epoch training loss=4.9050\n"
          ]
        },
        {
          "name": "stdout",
          "output_type": "stream",
          "text": [
            "-----> Epoch 7 | Train loss: 4.9050\n",
            "----------\n",
            "epoch 8/200\n"
          ]
        },
        {
          "name": "stderr",
          "output_type": "stream",
          "text": [
            "[16:34<00:00] step: 32/32 | 100%|\u001b[33m██████████\u001b[0m 31.07s/it, Epoch training loss=4.8145\n"
          ]
        },
        {
          "name": "stdout",
          "output_type": "stream",
          "text": [
            "✓ Saved new best model for fold 1 (epoch 8)\n",
            "Val dice: 0.0140 | Best: 0.0140 at epoch 8\n",
            "-----> Epoch 8 | Train loss: 4.8145 | Val loss: 5.0456\n",
            "----------\n",
            "epoch 9/200\n"
          ]
        },
        {
          "name": "stderr",
          "output_type": "stream",
          "text": [
            "[11:34<00:00] step: 32/32 | 100%|\u001b[33m██████████\u001b[0m 21.70s/it, Epoch training loss=4.8135\n"
          ]
        },
        {
          "name": "stdout",
          "output_type": "stream",
          "text": [
            "-----> Epoch 9 | Train loss: 4.8135\n",
            "----------\n",
            "epoch 10/200\n"
          ]
        },
        {
          "name": "stderr",
          "output_type": "stream",
          "text": [
            "[16:36<00:00] step: 32/32 | 100%|\u001b[33m██████████\u001b[0m 31.15s/it, Epoch training loss=4.8063\n"
          ]
        },
        {
          "name": "stdout",
          "output_type": "stream",
          "text": [
            "✓ Saved new best model for fold 1 (epoch 10)\n",
            "Val dice: 0.0190 | Best: 0.0190 at epoch 10\n",
            "-----> Epoch 10 | Train loss: 4.8063 | Val loss: 5.0313\n",
            "----------\n",
            "epoch 11/200\n"
          ]
        },
        {
          "name": "stderr",
          "output_type": "stream",
          "text": [
            "[11:31<00:00] step: 32/32 | 100%|\u001b[33m██████████\u001b[0m 21.59s/it, Epoch training loss=4.7924\n"
          ]
        },
        {
          "name": "stdout",
          "output_type": "stream",
          "text": [
            "-----> Epoch 11 | Train loss: 4.7924\n",
            "----------\n",
            "epoch 12/200\n"
          ]
        },
        {
          "name": "stderr",
          "output_type": "stream",
          "text": [
            "[16:04<00:00] step: 32/32 | 100%|\u001b[33m██████████\u001b[0m 30.15s/it, Epoch training loss=4.6956\n"
          ]
        },
        {
          "name": "stdout",
          "output_type": "stream",
          "text": [
            "Val dice: 0.0071 | Best: 0.0190 at epoch 10\n",
            "-----> Epoch 12 | Train loss: 4.6956 | Val loss: 4.9036\n",
            "----------\n",
            "epoch 13/200\n"
          ]
        },
        {
          "name": "stderr",
          "output_type": "stream",
          "text": [
            "[11:21<00:00] step: 32/32 | 100%|\u001b[33m██████████\u001b[0m 21.31s/it, Epoch training loss=4.6974\n"
          ]
        },
        {
          "name": "stdout",
          "output_type": "stream",
          "text": [
            "-----> Epoch 13 | Train loss: 4.6974\n",
            "----------\n",
            "epoch 14/200\n"
          ]
        },
        {
          "name": "stderr",
          "output_type": "stream",
          "text": [
            "[16:28<00:00] step: 32/32 | 100%|\u001b[33m██████████\u001b[0m 30.89s/it, Epoch training loss=4.5980\n"
          ]
        },
        {
          "name": "stdout",
          "output_type": "stream",
          "text": [
            "✓ Saved new best model for fold 1 (epoch 14)\n",
            "Val dice: 0.0200 | Best: 0.0200 at epoch 14\n",
            "-----> Epoch 14 | Train loss: 4.5980 | Val loss: 4.7988\n",
            "----------\n",
            "epoch 15/200\n"
          ]
        },
        {
          "name": "stderr",
          "output_type": "stream",
          "text": [
            "[11:21<00:00] step: 32/32 | 100%|\u001b[33m██████████\u001b[0m 21.30s/it, Epoch training loss=4.5422\n"
          ]
        },
        {
          "name": "stdout",
          "output_type": "stream",
          "text": [
            "-----> Epoch 15 | Train loss: 4.5422\n",
            "----------\n",
            "epoch 16/200\n"
          ]
        },
        {
          "name": "stderr",
          "output_type": "stream",
          "text": [
            "[15:50<00:00] step: 32/32 | 100%|\u001b[33m██████████\u001b[0m 29.72s/it, Epoch training loss=4.5594\n"
          ]
        },
        {
          "name": "stdout",
          "output_type": "stream",
          "text": [
            "✓ Saved new best model for fold 1 (epoch 16)\n",
            "Val dice: 0.0239 | Best: 0.0239 at epoch 16\n",
            "-----> Epoch 16 | Train loss: 4.5594 | Val loss: 4.6733\n",
            "----------\n",
            "epoch 17/200\n"
          ]
        },
        {
          "name": "stderr",
          "output_type": "stream",
          "text": [
            "[11:12<00:00] step: 32/32 | 100%|\u001b[33m██████████\u001b[0m 21.02s/it, Epoch training loss=4.5252\n"
          ]
        },
        {
          "name": "stdout",
          "output_type": "stream",
          "text": [
            "-----> Epoch 17 | Train loss: 4.5252\n",
            "----------\n",
            "epoch 18/200\n"
          ]
        },
        {
          "name": "stderr",
          "output_type": "stream",
          "text": [
            "[13:02<00:00] step: 32/32 | 100%|\u001b[33m██████████\u001b[0m 24.47s/it, Epoch training loss=4.3800\n"
          ]
        },
        {
          "name": "stdout",
          "output_type": "stream",
          "text": [
            "Val dice: 0.0172 | Best: 0.0239 at epoch 16\n",
            "-----> Epoch 18 | Train loss: 4.3800 | Val loss: 4.6673\n",
            "----------\n",
            "epoch 19/200\n"
          ]
        },
        {
          "name": "stderr",
          "output_type": "stream",
          "text": [
            "[10:05<00:00] step: 32/32 | 100%|\u001b[33m██████████\u001b[0m 18.92s/it, Epoch training loss=4.4356\n"
          ]
        },
        {
          "name": "stdout",
          "output_type": "stream",
          "text": [
            "-----> Epoch 19 | Train loss: 4.4356\n",
            "----------\n",
            "epoch 20/200\n"
          ]
        },
        {
          "name": "stderr",
          "output_type": "stream",
          "text": [
            "[12:43<00:00] step: 32/32 | 100%|\u001b[33m██████████\u001b[0m 23.87s/it, Epoch training loss=4.3820\n"
          ]
        },
        {
          "name": "stdout",
          "output_type": "stream",
          "text": [
            "Val dice: 0.0238 | Best: 0.0239 at epoch 16\n",
            "-----> Epoch 20 | Train loss: 4.3820 | Val loss: 4.4584\n",
            "----------\n",
            "epoch 21/200\n"
          ]
        },
        {
          "name": "stderr",
          "output_type": "stream",
          "text": [
            "[10:54<00:00] step: 32/32 | 100%|\u001b[33m██████████\u001b[0m 20.44s/it, Epoch training loss=4.3100\n"
          ]
        },
        {
          "name": "stdout",
          "output_type": "stream",
          "text": [
            "-----> Epoch 21 | Train loss: 4.3100\n",
            "----------\n",
            "epoch 22/200\n"
          ]
        },
        {
          "name": "stderr",
          "output_type": "stream",
          "text": [
            "[14:33<00:00] step: 32/32 | 100%|\u001b[33m██████████\u001b[0m 27.30s/it, Epoch training loss=4.2587\n"
          ]
        },
        {
          "name": "stdout",
          "output_type": "stream",
          "text": [
            "Val dice: 0.0211 | Best: 0.0239 at epoch 16\n",
            "-----> Epoch 22 | Train loss: 4.2587 | Val loss: 4.3650\n",
            "----------\n",
            "epoch 23/200\n"
          ]
        },
        {
          "name": "stderr",
          "output_type": "stream",
          "text": [
            "[12:49<00:00] step: 32/32 | 100%|\u001b[33m██████████\u001b[0m 24.06s/it, Epoch training loss=4.3099\n"
          ]
        },
        {
          "name": "stdout",
          "output_type": "stream",
          "text": [
            "-----> Epoch 23 | Train loss: 4.3099\n",
            "----------\n",
            "epoch 24/200\n"
          ]
        },
        {
          "name": "stderr",
          "output_type": "stream",
          "text": [
            "[15:02<00:00] step: 32/32 | 100%|\u001b[33m██████████\u001b[0m 28.20s/it, Epoch training loss=4.2377\n"
          ]
        },
        {
          "name": "stdout",
          "output_type": "stream",
          "text": [
            "Val dice: 0.0210 | Best: 0.0239 at epoch 16\n",
            "-----> Epoch 24 | Train loss: 4.2377 | Val loss: 4.3575\n",
            "----------\n",
            "epoch 25/200\n"
          ]
        },
        {
          "name": "stderr",
          "output_type": "stream",
          "text": [
            "[10:57<00:00] step: 32/32 | 100%|\u001b[33m██████████\u001b[0m 20.54s/it, Epoch training loss=4.1330\n"
          ]
        },
        {
          "name": "stdout",
          "output_type": "stream",
          "text": [
            "-----> Epoch 25 | Train loss: 4.1330\n",
            "----------\n",
            "epoch 26/200\n"
          ]
        },
        {
          "name": "stderr",
          "output_type": "stream",
          "text": [
            "[14:49<00:00] step: 32/32 | 100%|\u001b[33m██████████\u001b[0m 27.78s/it, Epoch training loss=4.0271\n"
          ]
        },
        {
          "name": "stdout",
          "output_type": "stream",
          "text": [
            "✓ Saved new best model for fold 1 (epoch 26)\n",
            "Val dice: 0.0262 | Best: 0.0262 at epoch 26\n",
            "-----> Epoch 26 | Train loss: 4.0271 | Val loss: 4.2673\n",
            "----------\n",
            "epoch 27/200\n"
          ]
        },
        {
          "name": "stderr",
          "output_type": "stream",
          "text": [
            "[10:31<00:00] step: 32/32 | 100%|\u001b[33m██████████\u001b[0m 19.74s/it, Epoch training loss=4.0543\n"
          ]
        },
        {
          "name": "stdout",
          "output_type": "stream",
          "text": [
            "-----> Epoch 27 | Train loss: 4.0543\n",
            "----------\n",
            "epoch 28/200\n"
          ]
        },
        {
          "name": "stderr",
          "output_type": "stream",
          "text": [
            "[14:46<00:00] step: 32/32 | 100%|\u001b[33m██████████\u001b[0m 27.71s/it, Epoch training loss=4.0221\n"
          ]
        },
        {
          "name": "stdout",
          "output_type": "stream",
          "text": [
            "✓ Saved new best model for fold 1 (epoch 28)\n",
            "Val dice: 0.0266 | Best: 0.0266 at epoch 28\n",
            "-----> Epoch 28 | Train loss: 4.0221 | Val loss: 4.1277\n",
            "----------\n",
            "epoch 29/200\n"
          ]
        },
        {
          "name": "stderr",
          "output_type": "stream",
          "text": [
            "[10:23<00:00] step: 32/32 | 100%|\u001b[33m██████████\u001b[0m 19.50s/it, Epoch training loss=3.9714\n"
          ]
        },
        {
          "name": "stdout",
          "output_type": "stream",
          "text": [
            "-----> Epoch 29 | Train loss: 3.9714\n",
            "----------\n",
            "epoch 30/200\n"
          ]
        },
        {
          "name": "stderr",
          "output_type": "stream",
          "text": [
            "[06:39<06:54] step: 15/32 |  47%|\u001b[33m████▋     \u001b[0m 24.40s/it, Epoch training loss=4.0745"
          ]
        }
      ],
      "source": [
        "# Initialize mlflow\n",
        "mlflow.set_tracking_uri(\"https://promptly-unstealthy-roland.ngrok-free.dev\")\n",
        "mlflow.set_experiment(EXPERIMENT_NAME)\n",
        "\n",
        "n_splits = N_SPLITS # number of folds for cross-validation\n",
        "\n",
        "mss = MultilabelStratifiedKFold(n_splits=n_splits, random_state=42, shuffle=True)\n",
        "\n",
        "# Stockage des résultats de chaque fold\n",
        "cv_results = {\n",
        "    'fold': [],\n",
        "    'learning_rate': [],\n",
        "    'best_epoch': [],\n",
        "    'best_dice': [],\n",
        "    'train_losses': [],\n",
        "    'val_losses': [],\n",
        "    'val_dices': []\n",
        "}\n",
        "\n",
        "# Paramètres d'entraînement\n",
        "device = torch.device(\"cuda\")\n",
        "num_workers = min(8, os.cpu_count())\n",
        "max_epochs = EPOCHS\n",
        "val_interval = VAL_INTERVAL\n",
        "patience = PATIENCE_STOP_LOSS\n",
        "\n",
        "for fold, (train_idx, val_idx) in enumerate(mss.split(X=train_data, y=matrix)):\n",
        "\n",
        "    train_fold = train_data.iloc[train_idx]\n",
        "    val_fold = train_data.iloc[val_idx]\n",
        "\n",
        "    print(f\"FOLD {fold + 1} - Train fold size: {len(train_fold)}, Val fold size: {len(val_fold)}\")\n",
        "\n",
        "    # Prepare data loaders\n",
        "    train_dict = train_fold.to_dict('records')\n",
        "    val_dict = val_fold.to_dict('records')\n",
        "\n",
        "    train_ds = CacheDataset(data=train_dict, transform=train_augmentations, cache_rate=1, num_workers=num_workers)\n",
        "    train_loader = DataLoader(train_ds, batch_size=1, num_workers=num_workers, sampler=BalancedCTMRSampler(train_ds))\n",
        "\n",
        "    val_ds = Dataset(data=val_dict, transform=test_augmentations)\n",
        "    val_loader = DataLoader(val_ds, batch_size=1, shuffle=False, num_workers=num_workers)\n",
        "\n",
        "    # Post-processing transforms\n",
        "    post_pred = Compose([AsDiscrete(argmax=True, to_onehot=49)]) # argmax and one-hot encode the prediction\n",
        "    post_label = Compose([AsDiscrete(to_onehot=49)]) # one-hot encode the label\n",
        "\n",
        "    # Initialize model, loss function, optimizer, learning rate scheduler, and metric\n",
        "    model = UNet(\n",
        "        spatial_dims=3,\n",
        "        in_channels=1,\n",
        "        out_channels=49,\n",
        "        channels=CHANNELS,\n",
        "        strides=(2, 2, 2, 2),\n",
        "        num_res_units=NUM_RES_UNITS,\n",
        "        bias=False,\n",
        "        dropout=0.1\n",
        "    ).to(device)\n",
        "\n",
        "    loss_function = HybridDiceCLDiceLoss(iter_=7, class_weights=weights.to(device))\n",
        "    optimizer = torch.optim.SGD(model.parameters(), lr=LEARNING_RATE, weight_decay=3e-5, momentum=0.99, nesterov=True)\n",
        "    lr_scheduler = torch.optim.lr_scheduler.ReduceLROnPlateau(optimizer, factor=0.33, patience=3, min_lr=1e-5)\n",
        "\n",
        "    dice_metric = monai.metrics.DiceMetric(include_background=True, reduction=\"mean\", num_classes=49)\n",
        "\n",
        "    # Initialize training parameters\n",
        "    cnt = 0\n",
        "    best_metric = -1\n",
        "    best_metric_epoch = -1\n",
        "    fold_train_losses = []\n",
        "    fold_val_losses = []\n",
        "    fold_val_dices = []\n",
        "    fold_lr = []\n",
        "\n",
        "    with mlflow.start_run(run_name=f\"{EXPERIMENT_NAME}_fold_{fold+1}\"):\n",
        "        mlflow.log_param(\"Experiment name\", EXPERIMENT_NAME)\n",
        "        mlflow.log_param(\"Optimizer\", OPTIMIZER_NAME)\n",
        "        mlflow.log_param(\"Loss function\", LOSS)\n",
        "        mlflow.log_param(\"Channels\", CHANNELS)\n",
        "        mlflow.log_param(\"Patch size\", PATCH_SIZE)\n",
        "        mlflow.log_param(\"Number of residual units\", NUM_RES_UNITS)\n",
        "        mlflow.log_param(\"Learning rate\", LEARNING_RATE)\n",
        "        mlflow.log_param(\"Batch size\", BATCH_SIZE)\n",
        "        mlflow.log_param(\"Number of epochs\", EPOCHS)\n",
        "        mlflow.log_param(\"Cross-validation folds\", N_SPLITS)\n",
        "        mlflow.log_param(\"Validation interval\", VAL_INTERVAL)\n",
        "        mlflow.log_param(\"Early stopping patience\", PATIENCE_STOP_LOSS)\n",
        "        for epoch in range(max_epochs):\n",
        "            print(\"-\" * 10)\n",
        "            print(f\"epoch {epoch + 1}/{max_epochs}\")\n",
        "\n",
        "            ####################################\n",
        "            ############# Training #############\n",
        "            ####################################\n",
        "\n",
        "            model.train() # set model to training mode\n",
        "            train_loss = 0 # initialize epoch loss\n",
        "            progress_bar = tqdm(train_loader,\n",
        "                                bar_format='[{elapsed}<{remaining}] step: {n_fmt}/{total_fmt} | {l_bar}{bar} {rate_fmt}{postfix}',\n",
        "                                colour='yellow') # progress bar for training\n",
        "            for step, batch_data in enumerate(progress_bar, start=1): # for each batch\n",
        "                inputs, labels = batch_data[\"image\"].to(device), batch_data[\"label\"].to(device)\n",
        "                optimizer.zero_grad() # reset gradients\n",
        "                with autocast():\n",
        "                  outputs = model(inputs) # calculate outputs\n",
        "                  loss = loss_function(outputs, labels) # compute loss\n",
        "                scaler.scale(loss).backward()\n",
        "                scaler.step(optimizer)\n",
        "                scaler.update()\n",
        "                train_loss += loss.item() # accumulate step loss\n",
        "                train_loss_average = train_loss / step # calculate actual average loss (for display purposes)\n",
        "                progress_bar.set_postfix({\"Epoch training loss\": f\"{train_loss_average:.4f}\"})\n",
        "            train_loss /= len(train_loader) # average loss for the epoch\n",
        "            fold_train_losses.append(train_loss) # record epoch loss\n",
        "            mlflow.log_metric(\"train_loss\", train_loss, step=epoch) # log training loss to mlflow\n",
        "\n",
        "            torch.cuda.empty_cache() # clear GPU memory\n",
        "            gc.collect()\n",
        "\n",
        "            ######################################\n",
        "            ############# Validation #############\n",
        "            ######################################\n",
        "\n",
        "            val_loss = None # initialize validation loss\n",
        "            if (epoch + 1) % val_interval == 0:\n",
        "                model.eval() # set model to evaluation mode\n",
        "                with torch.no_grad():\n",
        "                    val_loss = 0 # initialize epoch loss\n",
        "                    for val_data in val_loader:\n",
        "                        inputs, labels = val_data[\"image\"].to(device), val_data[\"label\"].to(device)\n",
        "                        outputs = infer_volume(model, inputs, vol_size=(96, 96, 96), sw_patch_size=1, overlap=0.1) # infer the image volume\n",
        "                        val_loss += loss_function(outputs, labels).item() # accumulate loss value for each batch of validation\n",
        "                        outputs = [post_pred(i) for i in decollate_batch(outputs)]\n",
        "                        labels = [post_label(i) for i in decollate_batch(labels)]\n",
        "                        dice_metric(outputs, labels) # calculate dice metric for the current image volume\n",
        "\n",
        "                        torch.cuda.empty_cache()  # clear GPU memory\n",
        "\n",
        "                    val_loss /= len(val_loader) # average loss for validation dataset\n",
        "                    fold_val_losses.append(val_loss) # record validation loss\n",
        "\n",
        "                    lr_scheduler.step(val_loss) # step the learning rate scheduler\n",
        "                    actual_lr = optimizer.param_groups[0]['lr'] # get the actual learning rate\n",
        "                    fold_lr.append(actual_lr) # record the learning rate\n",
        "\n",
        "                    metric = dice_metric.aggregate().item() # aggregate the dice metric for the whole validation dataset\n",
        "                    dice_metric.reset() # reset the metric for the next validation round\n",
        "                    fold_val_dices.append(metric) # record metric value\n",
        "                    mlflow.log_metric(\"val_loss\", val_loss, step=epoch)\n",
        "                    mlflow.log_metric(\"val_dice\", metric, step=epoch)\n",
        "                    mlflow.log_param(\"Learning rate\", actual_lr)\n",
        "                    if metric > best_metric: # if the current model is the best, save it\n",
        "                        cnt = 0\n",
        "                        best_metric = metric\n",
        "                        best_metric_epoch = epoch + 1\n",
        "                        torch.save(model.state_dict(), f\"models/{EXPERIMENT_NAME}/best_model_fold_{fold+1}.pth\")\n",
        "                        print(f\"✓ Saved new best model for fold {fold+1} (epoch {best_metric_epoch})\")\n",
        "                    else:\n",
        "                        cnt += 1\n",
        "                        if cnt >= patience:\n",
        "                            print(f\"Early stopping at epoch {epoch + 1}\")\n",
        "                            break\n",
        "                    print(f\"Val dice: {metric:.4f} | Best: {best_metric:.4f} at epoch {best_metric_epoch}\")\n",
        "\n",
        "                    gc.collect()\n",
        "\n",
        "            print(f\"-----> Epoch {epoch + 1} | Train loss: {train_loss:.4f} | Val loss: {val_loss:.4f}\") if val_loss is not None else print(f\"-----> Epoch {epoch + 1} | Train loss: {train_loss:.4f}\")\n",
        "\n",
        "        mlflow.log_metric(\"best_val_dice\", best_metric)\n",
        "\n",
        "    # Save results of this fold\n",
        "    cv_results['fold'].append(fold)\n",
        "    cv_results['learning_rate'].append(fold_lr)\n",
        "    cv_results['best_epoch'].append(best_metric_epoch)\n",
        "    cv_results['best_dice'].append(best_metric)\n",
        "    cv_results['train_losses'].append(fold_train_losses)\n",
        "    cv_results['val_losses'].append(fold_val_losses)\n",
        "    cv_results['val_dices'].append(fold_val_dices)\n",
        "\n",
        "    print(f\"\\n{'=' * 20} FOLD {fold+1} COMPLETED {'=' * 20}\")\n",
        "    print(f\"Best dice: {best_metric:.4f} at epoch {best_metric_epoch}\")\n",
        "\n",
        "# Print global results of CV\n",
        "print(f\"\\n{'#' * 50}\")\n",
        "print(\"CROSS-VALIDATION RESULTS\")\n",
        "print(f\"{'#' * 50}\\n\")\n",
        "\n",
        "results_df = pd.DataFrame({\n",
        "    'Fold': cv_results['fold'],\n",
        "    'Best Epoch': cv_results['best_epoch'],\n",
        "    'Best Dice': cv_results['best_dice']\n",
        "})\n",
        "\n",
        "print(results_df.to_string(index=False))\n",
        "print(f\"\\nMean Dice: {np.mean(cv_results['best_dice']):.4f} ± {np.std(cv_results['best_dice']):.4f}\")\n",
        "print(f\"Min Dice: {np.min(cv_results['best_dice']):.4f}\")\n",
        "print(f\"Max Dice: {np.max(cv_results['best_dice']):.4f}\")\n",
        "# Save results\n",
        "results_df.to_csv(f'models/{EXPERIMENT_NAME}/cv_results.csv', index=False)\n",
        "print(f\"\\nResults saved to 'models/{EXPERIMENT_NAME}/cv_results.csv'\")"
      ]
    },
    {
      "cell_type": "markdown",
      "id": "da9de4b0",
      "metadata": {
        "id": "da9de4b0"
      },
      "source": [
        "# Test phase"
      ]
    },
    {
      "cell_type": "code",
      "execution_count": null,
      "id": "a23294a9",
      "metadata": {
        "id": "a23294a9",
        "outputId": "9f01bebb-8c50-4cb3-e679-ba9eea534f7c"
      },
      "outputs": [
        {
          "data": {
            "text/plain": [
              "UNet(\n",
              "  (model): Sequential(\n",
              "    (0): ResidualUnit(\n",
              "      (conv): Sequential(\n",
              "        (unit0): Convolution(\n",
              "          (conv): Conv3d(1, 16, kernel_size=(3, 3, 3), stride=(2, 2, 2), padding=(1, 1, 1), bias=False)\n",
              "          (adn): ADN(\n",
              "            (N): InstanceNorm3d(16, eps=1e-05, momentum=0.1, affine=False, track_running_stats=False)\n",
              "            (D): Dropout(p=0.0, inplace=False)\n",
              "            (A): PReLU(num_parameters=1)\n",
              "          )\n",
              "        )\n",
              "        (unit1): Convolution(\n",
              "          (conv): Conv3d(16, 16, kernel_size=(3, 3, 3), stride=(1, 1, 1), padding=(1, 1, 1), bias=False)\n",
              "          (adn): ADN(\n",
              "            (N): InstanceNorm3d(16, eps=1e-05, momentum=0.1, affine=False, track_running_stats=False)\n",
              "            (D): Dropout(p=0.0, inplace=False)\n",
              "            (A): PReLU(num_parameters=1)\n",
              "          )\n",
              "        )\n",
              "      )\n",
              "      (residual): Conv3d(1, 16, kernel_size=(3, 3, 3), stride=(2, 2, 2), padding=(1, 1, 1), bias=False)\n",
              "    )\n",
              "    (1): SkipConnection(\n",
              "      (submodule): Sequential(\n",
              "        (0): ResidualUnit(\n",
              "          (conv): Sequential(\n",
              "            (unit0): Convolution(\n",
              "              (conv): Conv3d(16, 32, kernel_size=(3, 3, 3), stride=(2, 2, 2), padding=(1, 1, 1), bias=False)\n",
              "              (adn): ADN(\n",
              "                (N): InstanceNorm3d(32, eps=1e-05, momentum=0.1, affine=False, track_running_stats=False)\n",
              "                (D): Dropout(p=0.0, inplace=False)\n",
              "                (A): PReLU(num_parameters=1)\n",
              "              )\n",
              "            )\n",
              "            (unit1): Convolution(\n",
              "              (conv): Conv3d(32, 32, kernel_size=(3, 3, 3), stride=(1, 1, 1), padding=(1, 1, 1), bias=False)\n",
              "              (adn): ADN(\n",
              "                (N): InstanceNorm3d(32, eps=1e-05, momentum=0.1, affine=False, track_running_stats=False)\n",
              "                (D): Dropout(p=0.0, inplace=False)\n",
              "                (A): PReLU(num_parameters=1)\n",
              "              )\n",
              "            )\n",
              "          )\n",
              "          (residual): Conv3d(16, 32, kernel_size=(3, 3, 3), stride=(2, 2, 2), padding=(1, 1, 1), bias=False)\n",
              "        )\n",
              "        (1): SkipConnection(\n",
              "          (submodule): Sequential(\n",
              "            (0): ResidualUnit(\n",
              "              (conv): Sequential(\n",
              "                (unit0): Convolution(\n",
              "                  (conv): Conv3d(32, 64, kernel_size=(3, 3, 3), stride=(2, 2, 2), padding=(1, 1, 1), bias=False)\n",
              "                  (adn): ADN(\n",
              "                    (N): InstanceNorm3d(64, eps=1e-05, momentum=0.1, affine=False, track_running_stats=False)\n",
              "                    (D): Dropout(p=0.0, inplace=False)\n",
              "                    (A): PReLU(num_parameters=1)\n",
              "                  )\n",
              "                )\n",
              "                (unit1): Convolution(\n",
              "                  (conv): Conv3d(64, 64, kernel_size=(3, 3, 3), stride=(1, 1, 1), padding=(1, 1, 1), bias=False)\n",
              "                  (adn): ADN(\n",
              "                    (N): InstanceNorm3d(64, eps=1e-05, momentum=0.1, affine=False, track_running_stats=False)\n",
              "                    (D): Dropout(p=0.0, inplace=False)\n",
              "                    (A): PReLU(num_parameters=1)\n",
              "                  )\n",
              "                )\n",
              "              )\n",
              "              (residual): Conv3d(32, 64, kernel_size=(3, 3, 3), stride=(2, 2, 2), padding=(1, 1, 1), bias=False)\n",
              "            )\n",
              "            (1): SkipConnection(\n",
              "              (submodule): Sequential(\n",
              "                (0): ResidualUnit(\n",
              "                  (conv): Sequential(\n",
              "                    (unit0): Convolution(\n",
              "                      (conv): Conv3d(64, 128, kernel_size=(3, 3, 3), stride=(2, 2, 2), padding=(1, 1, 1), bias=False)\n",
              "                      (adn): ADN(\n",
              "                        (N): InstanceNorm3d(128, eps=1e-05, momentum=0.1, affine=False, track_running_stats=False)\n",
              "                        (D): Dropout(p=0.0, inplace=False)\n",
              "                        (A): PReLU(num_parameters=1)\n",
              "                      )\n",
              "                    )\n",
              "                    (unit1): Convolution(\n",
              "                      (conv): Conv3d(128, 128, kernel_size=(3, 3, 3), stride=(1, 1, 1), padding=(1, 1, 1), bias=False)\n",
              "                      (adn): ADN(\n",
              "                        (N): InstanceNorm3d(128, eps=1e-05, momentum=0.1, affine=False, track_running_stats=False)\n",
              "                        (D): Dropout(p=0.0, inplace=False)\n",
              "                        (A): PReLU(num_parameters=1)\n",
              "                      )\n",
              "                    )\n",
              "                  )\n",
              "                  (residual): Conv3d(64, 128, kernel_size=(3, 3, 3), stride=(2, 2, 2), padding=(1, 1, 1), bias=False)\n",
              "                )\n",
              "                (1): SkipConnection(\n",
              "                  (submodule): ResidualUnit(\n",
              "                    (conv): Sequential(\n",
              "                      (unit0): Convolution(\n",
              "                        (conv): Conv3d(128, 256, kernel_size=(3, 3, 3), stride=(1, 1, 1), padding=(1, 1, 1), bias=False)\n",
              "                        (adn): ADN(\n",
              "                          (N): InstanceNorm3d(256, eps=1e-05, momentum=0.1, affine=False, track_running_stats=False)\n",
              "                          (D): Dropout(p=0.0, inplace=False)\n",
              "                          (A): PReLU(num_parameters=1)\n",
              "                        )\n",
              "                      )\n",
              "                      (unit1): Convolution(\n",
              "                        (conv): Conv3d(256, 256, kernel_size=(3, 3, 3), stride=(1, 1, 1), padding=(1, 1, 1), bias=False)\n",
              "                        (adn): ADN(\n",
              "                          (N): InstanceNorm3d(256, eps=1e-05, momentum=0.1, affine=False, track_running_stats=False)\n",
              "                          (D): Dropout(p=0.0, inplace=False)\n",
              "                          (A): PReLU(num_parameters=1)\n",
              "                        )\n",
              "                      )\n",
              "                    )\n",
              "                    (residual): Conv3d(128, 256, kernel_size=(1, 1, 1), stride=(1, 1, 1), bias=False)\n",
              "                  )\n",
              "                )\n",
              "                (2): Sequential(\n",
              "                  (0): Convolution(\n",
              "                    (conv): ConvTranspose3d(384, 64, kernel_size=(3, 3, 3), stride=(2, 2, 2), padding=(1, 1, 1), output_padding=(1, 1, 1), bias=False)\n",
              "                    (adn): ADN(\n",
              "                      (N): InstanceNorm3d(64, eps=1e-05, momentum=0.1, affine=False, track_running_stats=False)\n",
              "                      (D): Dropout(p=0.0, inplace=False)\n",
              "                      (A): PReLU(num_parameters=1)\n",
              "                    )\n",
              "                  )\n",
              "                  (1): ResidualUnit(\n",
              "                    (conv): Sequential(\n",
              "                      (unit0): Convolution(\n",
              "                        (conv): Conv3d(64, 64, kernel_size=(3, 3, 3), stride=(1, 1, 1), padding=(1, 1, 1), bias=False)\n",
              "                        (adn): ADN(\n",
              "                          (N): InstanceNorm3d(64, eps=1e-05, momentum=0.1, affine=False, track_running_stats=False)\n",
              "                          (D): Dropout(p=0.0, inplace=False)\n",
              "                          (A): PReLU(num_parameters=1)\n",
              "                        )\n",
              "                      )\n",
              "                    )\n",
              "                    (residual): Identity()\n",
              "                  )\n",
              "                )\n",
              "              )\n",
              "            )\n",
              "            (2): Sequential(\n",
              "              (0): Convolution(\n",
              "                (conv): ConvTranspose3d(128, 32, kernel_size=(3, 3, 3), stride=(2, 2, 2), padding=(1, 1, 1), output_padding=(1, 1, 1), bias=False)\n",
              "                (adn): ADN(\n",
              "                  (N): InstanceNorm3d(32, eps=1e-05, momentum=0.1, affine=False, track_running_stats=False)\n",
              "                  (D): Dropout(p=0.0, inplace=False)\n",
              "                  (A): PReLU(num_parameters=1)\n",
              "                )\n",
              "              )\n",
              "              (1): ResidualUnit(\n",
              "                (conv): Sequential(\n",
              "                  (unit0): Convolution(\n",
              "                    (conv): Conv3d(32, 32, kernel_size=(3, 3, 3), stride=(1, 1, 1), padding=(1, 1, 1), bias=False)\n",
              "                    (adn): ADN(\n",
              "                      (N): InstanceNorm3d(32, eps=1e-05, momentum=0.1, affine=False, track_running_stats=False)\n",
              "                      (D): Dropout(p=0.0, inplace=False)\n",
              "                      (A): PReLU(num_parameters=1)\n",
              "                    )\n",
              "                  )\n",
              "                )\n",
              "                (residual): Identity()\n",
              "              )\n",
              "            )\n",
              "          )\n",
              "        )\n",
              "        (2): Sequential(\n",
              "          (0): Convolution(\n",
              "            (conv): ConvTranspose3d(64, 16, kernel_size=(3, 3, 3), stride=(2, 2, 2), padding=(1, 1, 1), output_padding=(1, 1, 1), bias=False)\n",
              "            (adn): ADN(\n",
              "              (N): InstanceNorm3d(16, eps=1e-05, momentum=0.1, affine=False, track_running_stats=False)\n",
              "              (D): Dropout(p=0.0, inplace=False)\n",
              "              (A): PReLU(num_parameters=1)\n",
              "            )\n",
              "          )\n",
              "          (1): ResidualUnit(\n",
              "            (conv): Sequential(\n",
              "              (unit0): Convolution(\n",
              "                (conv): Conv3d(16, 16, kernel_size=(3, 3, 3), stride=(1, 1, 1), padding=(1, 1, 1), bias=False)\n",
              "                (adn): ADN(\n",
              "                  (N): InstanceNorm3d(16, eps=1e-05, momentum=0.1, affine=False, track_running_stats=False)\n",
              "                  (D): Dropout(p=0.0, inplace=False)\n",
              "                  (A): PReLU(num_parameters=1)\n",
              "                )\n",
              "              )\n",
              "            )\n",
              "            (residual): Identity()\n",
              "          )\n",
              "        )\n",
              "      )\n",
              "    )\n",
              "    (2): Sequential(\n",
              "      (0): Convolution(\n",
              "        (conv): ConvTranspose3d(32, 49, kernel_size=(3, 3, 3), stride=(2, 2, 2), padding=(1, 1, 1), output_padding=(1, 1, 1), bias=False)\n",
              "        (adn): ADN(\n",
              "          (N): InstanceNorm3d(49, eps=1e-05, momentum=0.1, affine=False, track_running_stats=False)\n",
              "          (D): Dropout(p=0.0, inplace=False)\n",
              "          (A): PReLU(num_parameters=1)\n",
              "        )\n",
              "      )\n",
              "      (1): ResidualUnit(\n",
              "        (conv): Sequential(\n",
              "          (unit0): Convolution(\n",
              "            (conv): Conv3d(49, 49, kernel_size=(3, 3, 3), stride=(1, 1, 1), padding=(1, 1, 1), bias=False)\n",
              "          )\n",
              "        )\n",
              "        (residual): Identity()\n",
              "      )\n",
              "    )\n",
              "  )\n",
              ")"
            ]
          },
          "metadata": {},
          "output_type": "display_data"
        }
      ],
      "source": [
        "model = UNet(\n",
        "        spatial_dims=3,\n",
        "        in_channels=1,\n",
        "        out_channels=49,\n",
        "        channels=CHANNELS,\n",
        "        strides=(2, 2, 2, 2),\n",
        "        num_res_units=NUM_RES_UNITS,\n",
        "        bias=False\n",
        "    ).to(device)\n",
        "\n",
        "model.load_state_dict(torch.load(\"best_model_fold_1.pth\", map_location=device))"
      ]
    },
    {
      "cell_type": "code",
      "execution_count": null,
      "id": "ea697637",
      "metadata": {
        "id": "ea697637"
      },
      "outputs": [],
      "source": [
        "test_data = pd.read_csv('../data/processed/test_split.csv')\n",
        "test_data = test_data.drop(columns=['file_name']).rename(columns={'image_path': 'image', 'label_path': 'label'})\n",
        "test_data['image'] = test_data['image'].apply(lambda x: os.path.join('..', x))\n",
        "test_data['label'] = test_data['label'].apply(lambda x: os.path.join('..', x))\n",
        "test_dict = test_data.to_dict('records') # list of dict (one per image) like [{'image':..., 'label':..., 'modality':...}, ...]"
      ]
    },
    {
      "cell_type": "code",
      "execution_count": null,
      "id": "cd1febad",
      "metadata": {
        "id": "cd1febad"
      },
      "outputs": [],
      "source": [
        "test_ds = Dataset(data=test_dict, transform=test_augmentations)\n",
        "test_loader = DataLoader(test_ds, batch_size=1, shuffle=False, num_workers=4)"
      ]
    },
    {
      "cell_type": "code",
      "execution_count": null,
      "id": "762134fc",
      "metadata": {
        "id": "762134fc",
        "outputId": "34670c3b-a6d6-4cda-b46c-cd3edcd76efe"
      },
      "outputs": [
        {
          "data": {
            "image/png": "[encoded data removed]",
            "text/plain": [
              "<Figure size 640x480 with 1 Axes>"
            ]
          },
          "metadata": {},
          "output_type": "display_data"
        }
      ],
      "source": [
        "# Test test data loading\n",
        "batch = next(iter(test_loader))\n",
        "\n",
        "img_slice = batch['image'][0, :, :, batch['image'].shape[-2]//2, :]\n",
        "label_slice = batch['label'][0, :, :, batch['label'].shape[-2]//2, :]\n",
        "\n",
        "# superpose image and label for visualization\n",
        "img = torch.rot90(monai.visualize.blend_images(img_slice, label_slice, alpha=0.5, cmap=\"jet\"), k=1, dims=(1, 2)).permute(1, 2, 0)\n",
        "\n",
        "plt.imshow(img)\n",
        "plt.axis('off')\n",
        "plt.show()"
      ]
    },
    {
      "cell_type": "code",
      "execution_count": null,
      "id": "a83b37a5",
      "metadata": {
        "id": "a83b37a5"
      },
      "outputs": [],
      "source": [
        "model.eval()\n",
        "\n",
        "\n",
        "with torch.no_grad():\n",
        "    for test_data in test_loader:\n",
        "        inputs, labels = test_data[\"image\"].to(device), test_data[\"label\"].to(device)\n",
        "        outputs = infer_volume(model, inputs, vol_size=(96, 96, 96), sw_patch_size=1, overlap=0.1) # infer the image volume\n",
        "\n",
        "        # save the output segmentation\n",
        "        output_np = outputs.cpu().numpy().squeeze()\n",
        "        output_nii = nib.Nifti1Image(output_np, affine=np.eye(4))\n",
        "        patient_id = os.path.basename(test_data['image'].meta['filename_or_obj'][0]).split('.')[0]\n",
        "        nib.save(output_nii, f\"../models/{EXPERIMENT_NAME}/test_output_{patient_id}.nii.gz\")\n",
        "        break"
      ]
    }
  ],
  "metadata": {
    "kernelspec": {
      "display_name": "Python 3",
      "name": "python3"
    },
    "language_info": {
      "codemirror_mode": {
        "name": "ipython",
        "version": 3
      },
      "file_extension": ".py",
      "mimetype": "text/x-python",
      "name": "python",
      "nbconvert_exporter": "python",
      "pygments_lexer": "ipython3",
      "version": "3.11.13"
    },
    "colab": {
      "provenance": []
    }
  },
  "nbformat": 4,
  "nbformat_minor": 5
}