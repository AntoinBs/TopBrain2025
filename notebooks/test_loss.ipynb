{
 "cells": [
  {
   "cell_type": "code",
   "execution_count": 1,
   "id": "1e270609",
   "metadata": {},
   "outputs": [],
   "source": [
    "import os\n",
    "import sys\n",
    "module_path = os.path.abspath(os.path.join('..'))\n",
    "if module_path not in sys.path:\n",
    "    sys.path.append(module_path)\n",
    "\n",
    "from src.utils.labels_mapping import RelabelByModality\n",
    "from src.utils.loss import HybridDiceCLDiceLoss\n",
    "\n",
    "from monai.transforms import (\n",
    "    Compose,\n",
    "    LoadImaged,\n",
    "    EnsureChannelFirstd,\n",
    "    RandCropByPosNegLabeld\n",
    ")\n",
    "from monai.data import DataLoader, Dataset\n",
    "\n",
    "import numpy as np\n",
    "import pandas as pd\n",
    "import nibabel as nib\n",
    "\n",
    "import torch"
   ]
  },
  {
   "cell_type": "code",
   "execution_count": 2,
   "id": "b9b41f45",
   "metadata": {},
   "outputs": [],
   "source": [
    "train_data = pd.read_csv('../data/processed/train_split.csv')\n",
    "train_data = train_data.drop(columns=['file_name']).rename(columns={'image_path': 'image', 'label_path': 'label'})\n",
    "train_data['image'] = train_data['image'].apply(lambda x: os.path.join('..', x))\n",
    "train_data['label'] = train_data['label'].apply(lambda x: os.path.join('..', x))\n",
    "train_dict = train_data.to_dict('records')\n",
    "\n",
    "transforms = Compose([\n",
    "    LoadImaged(keys=['image', 'label']),\n",
    "    EnsureChannelFirstd(keys=['image', 'label']),\n",
    "    RelabelByModality(keys=['label']),\n",
    "    RandCropByPosNegLabeld(\n",
    "        keys=[\"image\", \"label\"],\n",
    "        label_key=\"label\",\n",
    "        spatial_size=[96, 96, 96],\n",
    "        pos=1,\n",
    "        neg=1,\n",
    "        num_samples=4,\n",
    "        image_key=\"image\",\n",
    "        image_threshold=0,\n",
    "    )])\n",
    "\n",
    "dataset = Dataset(data=train_dict, transform=transforms)\n",
    "dataloader = DataLoader(dataset, batch_size=1)"
   ]
  },
  {
   "cell_type": "code",
   "execution_count": 3,
   "id": "735b4e7e",
   "metadata": {},
   "outputs": [
    {
     "name": "stdout",
     "output_type": "stream",
     "text": [
      "Perfect case (pred = target):\n",
      "Loss (perfect case): 0.0000\n",
      "------------------------------\n",
      "Bad case (Foreground (v > 0) in the good place, but class completely wrong):\n",
      "Loss (bad case): 0.6266\n",
      "------------------------------\n",
      "Worst case (pred = background):\n",
      "Loss (worst case): 0.7713\n"
     ]
    }
   ],
   "source": [
    "# loss init\n",
    "loss_fn = HybridDiceCLDiceLoss(iter_=7)\n",
    "\n",
    "# perfect case : pred = target\n",
    "print(\"Perfect case (pred = target):\")\n",
    "for batch_data in dataloader:\n",
    "    inputs, targets = batch_data[\"image\"], batch_data[\"label\"]\n",
    "    # If targets is (B, 1, H, W, D), squeeze to (B, H, W, D)\n",
    "    preds = torch.nn.functional.one_hot(targets.squeeze(1).long(), num_classes=49).permute(0, 4, 1, 2, 3).float()\n",
    "    preds_logits = preds * 20 - (1 - preds) * 20  # make logits very large for perfect prediction\n",
    "    loss = loss_fn(preds_logits, targets)\n",
    "    print(f\"Loss (perfect case): {loss.item():.4f}\")\n",
    "    break\n",
    "\n",
    "print('-' * 30)\n",
    "# Bad case : True foreground, but class completely wrong\n",
    "print(\"Bad case (Foreground (v > 0) in the good place, but class completely wrong):\")\n",
    "for batch_data in dataloader:\n",
    "    inputs, targets = batch_data[\"image\"], batch_data[\"label\"]\n",
    "    # Create completely wrong predictions by shifting the one-hot encoding\n",
    "    targets_shifted = torch.where(targets == 0, 0, (targets + 1) % 49)  # Shift classes by 1, keep background as 0\n",
    "    preds = torch.nn.functional.one_hot(targets_shifted.squeeze(1).long(), num_classes=49).permute(0, 4, 1, 2, 3).float()\n",
    "    preds_logits = preds * 20 - (1 - preds) * 20  # make logits very large for wrong prediction\n",
    "    loss = loss_fn(preds_logits, targets)\n",
    "    print(f\"Loss (bad case): {loss.item():.4f}\")\n",
    "    break\n",
    "\n",
    "print('-' * 30)\n",
    "print('Worst case (pred = background):')\n",
    "for batch_data in dataloader:\n",
    "    inputs, targets = batch_data[\"image\"], batch_data[\"label\"]\n",
    "    # Create completely wrong predictions by setting all to background\n",
    "    preds = torch.nn.functional.one_hot(torch.zeros_like(targets).squeeze(1).long(), num_classes=49).permute(0, 4, 1, 2, 3).float()\n",
    "    preds_logits = preds * 20 - (1 - preds) * 20  # make logits very large for wrong prediction\n",
    "    loss = loss_fn(preds_logits, targets)\n",
    "    print(f\"Loss (worst case): {loss.item():.4f}\")\n",
    "    break"
   ]
  }
 ],
 "metadata": {
  "kernelspec": {
   "display_name": ".venv (3.11.13)",
   "language": "python",
   "name": "python3"
  },
  "language_info": {
   "codemirror_mode": {
    "name": "ipython",
    "version": 3
   },
   "file_extension": ".py",
   "mimetype": "text/x-python",
   "name": "python",
   "nbconvert_exporter": "python",
   "pygments_lexer": "ipython3",
   "version": "3.11.13"
  }
 },
 "nbformat": 4,
 "nbformat_minor": 5
}
